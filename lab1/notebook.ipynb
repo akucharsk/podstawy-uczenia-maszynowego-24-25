{
 "cells": [
  {
   "cell_type": "markdown",
   "metadata": {},
   "source": [
    "# Modele liniowe"
   ]
  },
  {
   "cell_type": "code",
   "execution_count": 1,
   "metadata": {
    "execution": {
     "iopub.execute_input": "2025-03-20T19:14:49.646505Z",
     "iopub.status.busy": "2025-03-20T19:14:49.646240Z",
     "iopub.status.idle": "2025-03-20T19:14:50.187709Z",
     "shell.execute_reply": "2025-03-20T19:14:50.187335Z",
     "shell.execute_reply.started": "2025-03-20T19:14:49.646491Z"
    }
   },
   "outputs": [],
   "source": [
    "import matplotlib.pyplot as plt\n",
    "import numpy as np\n",
    "import pandas as pd"
   ]
  },
  {
   "cell_type": "markdown",
   "metadata": {},
   "source": [
    "Na początek ustawimy globalnie opcję `set_output` ze Scikit-learn'a ([dokumentacja](https://scikit-learn.org/stable/auto_examples/miscellaneous/plot_set_output.html)). Dzięki temu transformowane dane będą zawsze na wyjściu typu `pd.DataFrame`, zamiast `np.ndarray`, i zachowają odpowiednie nazwy cech."
   ]
  },
  {
   "cell_type": "code",
   "execution_count": 2,
   "metadata": {
    "execution": {
     "iopub.execute_input": "2025-03-20T19:14:50.188263Z",
     "iopub.status.busy": "2025-03-20T19:14:50.188093Z",
     "iopub.status.idle": "2025-03-20T19:14:50.522510Z",
     "shell.execute_reply": "2025-03-20T19:14:50.521911Z",
     "shell.execute_reply.started": "2025-03-20T19:14:50.188248Z"
    }
   },
   "outputs": [],
   "source": [
    "import sklearn\n",
    "\n",
    "sklearn.set_config(transform_output=\"pandas\")"
   ]
  },
  {
   "cell_type": "markdown",
   "metadata": {},
   "source": [
    "## Przewidywanie cen domów"
   ]
  },
  {
   "cell_type": "markdown",
   "metadata": {},
   "source": [
    "Wykorzystamy zbiór danych [Ames housing](https://www.openintro.org/book/statdata/?data=ames), w którym zadaniem jest przewidywanie wartości domu na podstawie cech budynku, działki, lokalizacji itp. Jest to więc przewidywanie wartości ciągłej, czyli regresja. Obejmuje zmienne do usunięcia (np. ID transakcji), numeryczne (floaty i inty), kategoryczne nieuporządkowane (*categorical nominal*) oraz kategoryczne uporządkowane (*categorical ordinal*), więc będzie wymagał wstępnego przetworzenia tak jak większość prawdziwych danych w ML.\n",
    "\n",
    "Inne znane, ale gorsze jakościowo zbiory tego typu to na przykład:\n",
    "- Boston housing - rasistowski, z tego powodu usunięty np. ze Scikit-learn ([wyjaśnienie](https://fairlearn.org/main/user_guide/datasets/boston_housing_data.html), [dyskusja](https://github.com/quantumblacklabs/causalnex/issues/92), [badanie](https://medium.com/@docintangible/racist-data-destruction-113e3eff54a8))\n",
    "- California housing - zbyt prosty (tylko kilka zmiennych numerycznych), użyty np. w książce \"Hands-On Machine Learning with Scikit-Learn, Keras, and TensorFlow\" A. Geron ([opis](https://inria.github.io/scikit-learn-mooc/python_scripts/datasets_california_housing.html))\n",
    "\n",
    "Autor zbioru to Dean De Cock, a zbiór został opisany oryginalnie w [tym artykule](https://jse.amstat.org/v19n3/decock.pdf). Szczegółowe opisy zmiennych znajdują się w pliku `ames_description.txt`.\n",
    "\n",
    "Formatem pliku jest **Apache Parquet**, bardzo wydajny format binarny. Ma on szereg zalet w ML i inżynierii danych porównaniu do plików CSV:\n",
    "- zapisuje informacje o typie kolumn\n",
    "- jednoznaczna specyfikacja (np. brak problemów z typem separatora, jak w CSV)\n",
    "- kompresja liczb, napisów etc. w oparciu o ich typ\n",
    "- znacznie mniejszy rozmiar plików, zwykle kilka razy\n",
    "- dużo większa szybkość zapisu i odczytu\n",
    "\n",
    "Dla zainteresowanych szczegółami: [link 1](https://www.databricks.com/glossary/what-is-parquet#:~:text=Apache%20Parquet%20is%20an%20open,handle%20complex%20data%20in%20bulk.), [link 2](https://data-mozart.com/parquet-file-format-everything-you-need-to-know/), [link 3](https://learncsdesigns.medium.com/understanding-apache-parquet-d722645cfe74). Ten format ma szerokie wsparcie, w tym w Pandasie. W przypadku tego zbioru, CSV zajmuje ~1.2 MB, a Parquet ~0.2 MB."
   ]
  },
  {
   "cell_type": "code",
   "execution_count": 3,
   "metadata": {
    "execution": {
     "iopub.execute_input": "2025-03-20T19:14:50.523294Z",
     "iopub.status.busy": "2025-03-20T19:14:50.523020Z",
     "iopub.status.idle": "2025-03-20T19:14:50.555757Z",
     "shell.execute_reply": "2025-03-20T19:14:50.555194Z",
     "shell.execute_reply.started": "2025-03-20T19:14:50.523274Z"
    }
   },
   "outputs": [
    {
     "data": {
      "text/html": [
       "<div>\n",
       "<style scoped>\n",
       "    .dataframe tbody tr th:only-of-type {\n",
       "        vertical-align: middle;\n",
       "    }\n",
       "\n",
       "    .dataframe tbody tr th {\n",
       "        vertical-align: top;\n",
       "    }\n",
       "\n",
       "    .dataframe thead th {\n",
       "        text-align: right;\n",
       "    }\n",
       "</style>\n",
       "<table border=\"1\" class=\"dataframe\">\n",
       "  <thead>\n",
       "    <tr style=\"text-align: right;\">\n",
       "      <th></th>\n",
       "      <th>Order</th>\n",
       "      <th>PID</th>\n",
       "      <th>MSSubClass</th>\n",
       "      <th>MSZoning</th>\n",
       "      <th>LotFrontage</th>\n",
       "      <th>LotArea</th>\n",
       "      <th>Street</th>\n",
       "      <th>Alley</th>\n",
       "      <th>LotShape</th>\n",
       "      <th>LandContour</th>\n",
       "      <th>...</th>\n",
       "      <th>PoolArea</th>\n",
       "      <th>PoolQC</th>\n",
       "      <th>Fence</th>\n",
       "      <th>MiscFeature</th>\n",
       "      <th>MiscVal</th>\n",
       "      <th>MoSold</th>\n",
       "      <th>YrSold</th>\n",
       "      <th>SaleType</th>\n",
       "      <th>SaleCondition</th>\n",
       "      <th>SalePrice</th>\n",
       "    </tr>\n",
       "  </thead>\n",
       "  <tbody>\n",
       "    <tr>\n",
       "      <th>0</th>\n",
       "      <td>1</td>\n",
       "      <td>526301100</td>\n",
       "      <td>20</td>\n",
       "      <td>RL</td>\n",
       "      <td>141.0</td>\n",
       "      <td>31770</td>\n",
       "      <td>Pave</td>\n",
       "      <td>None</td>\n",
       "      <td>IR1</td>\n",
       "      <td>Lvl</td>\n",
       "      <td>...</td>\n",
       "      <td>0</td>\n",
       "      <td>None</td>\n",
       "      <td>None</td>\n",
       "      <td>None</td>\n",
       "      <td>0</td>\n",
       "      <td>5</td>\n",
       "      <td>2010</td>\n",
       "      <td>WD</td>\n",
       "      <td>Normal</td>\n",
       "      <td>215000</td>\n",
       "    </tr>\n",
       "    <tr>\n",
       "      <th>1</th>\n",
       "      <td>2</td>\n",
       "      <td>526350040</td>\n",
       "      <td>20</td>\n",
       "      <td>RH</td>\n",
       "      <td>80.0</td>\n",
       "      <td>11622</td>\n",
       "      <td>Pave</td>\n",
       "      <td>None</td>\n",
       "      <td>Reg</td>\n",
       "      <td>Lvl</td>\n",
       "      <td>...</td>\n",
       "      <td>0</td>\n",
       "      <td>None</td>\n",
       "      <td>MnPrv</td>\n",
       "      <td>None</td>\n",
       "      <td>0</td>\n",
       "      <td>6</td>\n",
       "      <td>2010</td>\n",
       "      <td>WD</td>\n",
       "      <td>Normal</td>\n",
       "      <td>105000</td>\n",
       "    </tr>\n",
       "    <tr>\n",
       "      <th>2</th>\n",
       "      <td>3</td>\n",
       "      <td>526351010</td>\n",
       "      <td>20</td>\n",
       "      <td>RL</td>\n",
       "      <td>81.0</td>\n",
       "      <td>14267</td>\n",
       "      <td>Pave</td>\n",
       "      <td>None</td>\n",
       "      <td>IR1</td>\n",
       "      <td>Lvl</td>\n",
       "      <td>...</td>\n",
       "      <td>0</td>\n",
       "      <td>None</td>\n",
       "      <td>None</td>\n",
       "      <td>Gar2</td>\n",
       "      <td>12500</td>\n",
       "      <td>6</td>\n",
       "      <td>2010</td>\n",
       "      <td>WD</td>\n",
       "      <td>Normal</td>\n",
       "      <td>172000</td>\n",
       "    </tr>\n",
       "    <tr>\n",
       "      <th>3</th>\n",
       "      <td>4</td>\n",
       "      <td>526353030</td>\n",
       "      <td>20</td>\n",
       "      <td>RL</td>\n",
       "      <td>93.0</td>\n",
       "      <td>11160</td>\n",
       "      <td>Pave</td>\n",
       "      <td>None</td>\n",
       "      <td>Reg</td>\n",
       "      <td>Lvl</td>\n",
       "      <td>...</td>\n",
       "      <td>0</td>\n",
       "      <td>None</td>\n",
       "      <td>None</td>\n",
       "      <td>None</td>\n",
       "      <td>0</td>\n",
       "      <td>4</td>\n",
       "      <td>2010</td>\n",
       "      <td>WD</td>\n",
       "      <td>Normal</td>\n",
       "      <td>244000</td>\n",
       "    </tr>\n",
       "    <tr>\n",
       "      <th>4</th>\n",
       "      <td>5</td>\n",
       "      <td>527105010</td>\n",
       "      <td>60</td>\n",
       "      <td>RL</td>\n",
       "      <td>74.0</td>\n",
       "      <td>13830</td>\n",
       "      <td>Pave</td>\n",
       "      <td>None</td>\n",
       "      <td>IR1</td>\n",
       "      <td>Lvl</td>\n",
       "      <td>...</td>\n",
       "      <td>0</td>\n",
       "      <td>None</td>\n",
       "      <td>MnPrv</td>\n",
       "      <td>None</td>\n",
       "      <td>0</td>\n",
       "      <td>3</td>\n",
       "      <td>2010</td>\n",
       "      <td>WD</td>\n",
       "      <td>Normal</td>\n",
       "      <td>189900</td>\n",
       "    </tr>\n",
       "  </tbody>\n",
       "</table>\n",
       "<p>5 rows × 82 columns</p>\n",
       "</div>"
      ],
      "text/plain": [
       "   Order        PID  MSSubClass MSZoning  LotFrontage  LotArea Street Alley  \\\n",
       "0      1  526301100          20       RL        141.0    31770   Pave  None   \n",
       "1      2  526350040          20       RH         80.0    11622   Pave  None   \n",
       "2      3  526351010          20       RL         81.0    14267   Pave  None   \n",
       "3      4  526353030          20       RL         93.0    11160   Pave  None   \n",
       "4      5  527105010          60       RL         74.0    13830   Pave  None   \n",
       "\n",
       "  LotShape LandContour  ... PoolArea PoolQC  Fence MiscFeature MiscVal MoSold  \\\n",
       "0      IR1         Lvl  ...        0   None   None        None       0      5   \n",
       "1      Reg         Lvl  ...        0   None  MnPrv        None       0      6   \n",
       "2      IR1         Lvl  ...        0   None   None        Gar2   12500      6   \n",
       "3      Reg         Lvl  ...        0   None   None        None       0      4   \n",
       "4      IR1         Lvl  ...        0   None  MnPrv        None       0      3   \n",
       "\n",
       "  YrSold SaleType  SaleCondition  SalePrice  \n",
       "0   2010      WD          Normal     215000  \n",
       "1   2010      WD          Normal     105000  \n",
       "2   2010      WD          Normal     172000  \n",
       "3   2010      WD          Normal     244000  \n",
       "4   2010      WD          Normal     189900  \n",
       "\n",
       "[5 rows x 82 columns]"
      ]
     },
     "execution_count": 3,
     "metadata": {},
     "output_type": "execute_result"
    }
   ],
   "source": [
    "df = pd.read_parquet(\"ames_data.parquet\")\n",
    "\n",
    "# remove dots from names to match data_description.txt\n",
    "df.columns = [col.replace(\".\", \"\") for col in df.columns]\n",
    "\n",
    "df.head()"
   ]
  },
  {
   "cell_type": "code",
   "execution_count": 4,
   "metadata": {
    "execution": {
     "iopub.execute_input": "2025-03-20T19:14:50.556541Z",
     "iopub.status.busy": "2025-03-20T19:14:50.556401Z",
     "iopub.status.idle": "2025-03-20T19:14:50.559787Z",
     "shell.execute_reply": "2025-03-20T19:14:50.559336Z",
     "shell.execute_reply.started": "2025-03-20T19:14:50.556528Z"
    }
   },
   "outputs": [
    {
     "data": {
      "text/plain": [
       "(2930, 82)"
      ]
     },
     "execution_count": 4,
     "metadata": {},
     "output_type": "execute_result"
    }
   ],
   "source": [
    "df.shape"
   ]
  },
  {
   "cell_type": "markdown",
   "metadata": {},
   "source": [
    "## Eksploracja danych, czyszczenie danych i inżynieria cech"
   ]
  },
  {
   "cell_type": "markdown",
   "metadata": {},
   "source": [
    "Wstępne czyszczenie danych (*data cleaning*) obejmuje:\n",
    "- usunięcie kolumn `Order` oraz `PID`\n",
    "- usunięcie obserwacji odstających (*outliers*), które mają powyżej 4000 stóp kwadratowych (ok. 370 metrów kwadratowych) powierzchni\n",
    "- usunięcie wpisów z dzielnic `GrnHill` oraz `Landmrk`, które obejmują w sumie zaledwie 3 domy\n",
    "- transformacja logarytmiczna zmiennej zależnej (ceny domu)\n",
    "\n",
    "To drugie jest motywowane wykresem przedstawionym poniżej. Zostało uznane za błąd już przez samego autora."
   ]
  },
  {
   "cell_type": "code",
   "execution_count": 5,
   "metadata": {
    "execution": {
     "iopub.execute_input": "2025-03-20T19:14:50.560320Z",
     "iopub.status.busy": "2025-03-20T19:14:50.560202Z",
     "iopub.status.idle": "2025-03-20T19:14:50.772240Z",
     "shell.execute_reply": "2025-03-20T19:14:50.771863Z",
     "shell.execute_reply.started": "2025-03-20T19:14:50.560309Z"
    }
   },
   "outputs": [
    {
     "data": {
      "image/png": "[encoded data removed]",
      "text/plain": [
       "<Figure size 640x480 with 1 Axes>"
      ]
     },
     "metadata": {},
     "output_type": "display_data"
    },
    {
     "data": {
      "image/png": "[encoded data removed]",
      "text/plain": [
       "<Figure size 640x480 with 1 Axes>"
      ]
     },
     "metadata": {},
     "output_type": "display_data"
    }
   ],
   "source": [
    "df = df.drop([\"Order\", \"PID\"], axis=\"columns\")\n",
    "df = df.loc[~df[\"Neighborhood\"].isin([\"GrnHill\", \"Landmrk\"]), :]\n",
    "\n",
    "plt.scatter(df[\"GrLivArea\"], df[\"SalePrice\"])\n",
    "plt.title(\"House area vs price\")\n",
    "plt.xlabel(\"GrLivArea\")\n",
    "plt.ylabel(\"SalePrice\")\n",
    "plt.show()\n",
    "\n",
    "df = df.loc[df[\"GrLivArea\"] <= 4000, :]\n",
    "\n",
    "plt.scatter(df[\"GrLivArea\"], df[\"SalePrice\"])\n",
    "plt.title(\"House area vs price, outliers removed\")\n",
    "plt.xlabel(\"GrLivArea\")\n",
    "plt.ylabel(\"SalePrice\")\n",
    "plt.show()"
   ]
  },
  {
   "cell_type": "markdown",
   "metadata": {},
   "source": [
    "Zawsze warto też przyjrzeć się rozkładowi zmiennej docelowej, żeby poznać jego typ i skalę. Jak widać poniżej, rozkład jest dość skośny, co ma sens - mało jest bardzo drogich domów. Można to zatem uznać za problem **regresji niezbalansowanej (imbalanced regression)**, w którym rozkład zmiennej docelowej nie jest normalny.\n",
    "\n",
    "Załóżmy, że typowego klienta nie interesują bardzo drogie domy. Cały ciężki ogon rozkładu można zatem uznać zasadniczo za outliery - im większa wartość, tym mniej interesuje przeciętną osobę. Warto też pamiętać, że realny \"przeciętny\" dochód to mediana, a nie średnia zarobków, co odpowiednio przekłada się na zainteresowanie domami.\n",
    "\n",
    "W tym przypadku warto przetransformować tę zmienną logarytmem bliżej rozkładu normalnego z dwóch powodów.\n",
    "\n",
    "Po pierwsze, stabilność numeryczna - wartości są bardzo duże, rzędu setek tysięcy, i przy obliczaniu odchylenia standardowego czy wariancji to byłby problem. Logarytm to przykład **transformacji stabilizującej wariancję (variance-stabilizing transform)**.\n",
    "\n",
    "Ponadto regresja liniowa (pierwszy model liniowy, który będziemy rozważać) czyni szereg założeń w modelowaniu, co wynika z jej podstaw statystycznych. Są to między innymi:\n",
    "1. **Normalność błędów (residuals normality)** - błędy modelu, czyli $y - \\hat{y}$, mają rozkład normalny\n",
    "2. **Homoskedastyczność (homoscedasticity)** - błędy mają stałą wariancję, czyli nie zależą od wielkości zmiennej zależnej\n",
    "\n",
    "W naszym przypadku oznacza to, że podobnie często nie doceniamy albo przeceniamy wartość domu, oraz dla tanich i drogich domów mamy podobny błąd. Przy rozkładzie zmiennej zależnej bardzo różnym od normalnego te założenia są typowo łamane, co skutkuje gorszą jakością predykcji modelu. Dlatego transformacji warto też dokonać dla lepszej jakości modelu.\n",
    "\n",
    "Skąd wiemy, że logarytm? Bo rozkłady o dodaniej skośności (positively skewed) przesuwa się \"w prawo\" właśnie logarytmem, a w drugą stronę eksponentą. Dla zainteresowanych: [link 1](https://www.biostathandbook.com/transformation.html), [link 2](https://bookdown.org/dereksonderegger/571/8-LogTransformations-Chapter.html). Są też algorytmy, które potrafią same estymować potrzebną transformację, np. **Box-Cox transform** albo **Yeo-Johnson transform**. Podobne transformacje można też oczywiście wykonywać nie tylko dla zmiennej zależnej, ale też (a nawet jest to częstsze) dla cech.\n",
    "\n",
    "**Zadanie 1 (1 punkt)**\n",
    "\n",
    "1. Narysuj wykres cen - histogram kolumny `\"SalePrice\"`. Pamiętaj o podaniu tytułu i dodaniu legendy.\n",
    "2. Oblicz średnią i medianę cen, a następnie nanieś je na wykres jako pionowe, przerywane linie. Może się przydać [ten przykład](https://stackoverflow.com/a/57046310/9472066). Wypisz te wartości, lub zawrzyj je w opisie w legendzie, zaokrąglone do liczb całkowitych.\n",
    "3. Zlogarytmuj ceny z pomocą `np.log1p` (zamień istniejące wartości).\n",
    "4. Narysuj wykres po zlogarytmowaniu, razem z liniami dla średniej i mediany.\n",
    "\n",
    "Może ci się przydać metoda `.plot.hist()` dla `pd.Series`. Zwraca ona normalny wykres Matplotliba, do którego można potem dodawać kolejne elementy."
   ]
  },
  {
   "cell_type": "code",
   "execution_count": 6,
   "metadata": {
    "execution": {
     "iopub.execute_input": "2025-03-20T19:14:50.773763Z",
     "iopub.status.busy": "2025-03-20T19:14:50.773613Z",
     "iopub.status.idle": "2025-03-20T19:14:50.872747Z",
     "shell.execute_reply": "2025-03-20T19:14:50.872289Z",
     "shell.execute_reply.started": "2025-03-20T19:14:50.773749Z"
    }
   },
   "outputs": [
    {
     "data": {
      "image/png": "[encoded data removed]",
      "text/plain": [
       "<Figure size 640x480 with 1 Axes>"
      ]
     },
     "metadata": {},
     "output_type": "display_data"
    }
   ],
   "source": [
    "sale_price = df.loc[:, \"SalePrice\"]\n",
    "sale_price.plot.hist(color=\"blue\")\n",
    "plt.xlabel(\"Sale Price\")\n",
    "plt.title(\"Number of apartments for specific sale price ranges\")\n",
    "\n",
    "avg = np.average(sale_price)\n",
    "median = np.median(sale_price)\n",
    "\n",
    "plt.axvline(avg, color=\"red\", linestyle=\"--\", label=f\"average ({np.round(avg).astype(np.int32)})\")\n",
    "plt.axvline(median, color=\"orange\", linestyle=\"--\", label=f\"median ({np.round(median).astype(np.int32)})\")\n",
    "plt.legend()\n",
    "plt.show()"
   ]
  },
  {
   "cell_type": "code",
   "execution_count": 7,
   "metadata": {
    "execution": {
     "iopub.execute_input": "2025-03-20T19:14:50.873921Z",
     "iopub.status.busy": "2025-03-20T19:14:50.873394Z",
     "iopub.status.idle": "2025-03-20T19:14:50.976537Z",
     "shell.execute_reply": "2025-03-20T19:14:50.976050Z",
     "shell.execute_reply.started": "2025-03-20T19:14:50.873893Z"
    }
   },
   "outputs": [
    {
     "data": {
      "image/png": "[encoded data removed]",
      "text/plain": [
       "<Figure size 640x480 with 1 Axes>"
      ]
     },
     "metadata": {},
     "output_type": "display_data"
    },
    {
     "name": "stderr",
     "output_type": "stream",
     "text": [
      "/tmp/ipykernel_826487/1081980698.py:14: FutureWarning: Setting an item of incompatible dtype is deprecated and will raise in a future error of pandas. Value '[12.27839796 11.56172515 12.05525557 ... 11.79056478 12.0435596\n",
      " 12.14420256]' has dtype incompatible with int64, please explicitly cast to a compatible dtype first.\n",
      "  df.loc[:, \"SalePrice\"] = np.float64(log_prices)\n"
     ]
    }
   ],
   "source": [
    "log_prices = np.log1p(sale_price)\n",
    "log_prices.plot.hist(color=\"green\", label=\"LogSalePrice\")\n",
    "plt.xlabel(\"Log sale price\")\n",
    "plt.title(\"Amount of apartments in log(sale price) ranges\")\n",
    "\n",
    "log_avg = np.round(np.average(log_prices), 3)\n",
    "log_median = np.round(np.median(log_prices), 3)\n",
    "\n",
    "plt.axvline(log_avg, color=\"red\", linestyle=\"--\", label=f\"log average ({log_avg})\")\n",
    "plt.axvline(log_median, color=\"orange\", linestyle=\"dotted\", label=f\"log median ({log_median})\")\n",
    "plt.legend()\n",
    "plt.show()\n",
    "\n",
    "df.loc[:, \"SalePrice\"] = np.float64(log_prices)"
   ]
  },
  {
   "cell_type": "markdown",
   "metadata": {
    "editable": true,
    "slideshow": {
     "slide_type": ""
    },
    "tags": []
   },
   "source": [
    "W zbiorze znajdują się liczne wartości brakujące, które zostały uzupełnione na podstawie [tego notebooka na Kaggle](https://www.kaggle.com/code/juliencs/a-study-on-regression-applied-to-the-ames-dataset)."
   ]
  },
  {
   "cell_type": "code",
   "execution_count": 8,
   "metadata": {
    "execution": {
     "iopub.execute_input": "2025-03-20T19:14:50.977312Z",
     "iopub.status.busy": "2025-03-20T19:14:50.977095Z",
     "iopub.status.idle": "2025-03-20T19:14:51.005278Z",
     "shell.execute_reply": "2025-03-20T19:14:51.004912Z",
     "shell.execute_reply.started": "2025-03-20T19:14:50.977296Z"
    }
   },
   "outputs": [],
   "source": [
    "def replace_na(df: pd.DataFrame, col: str, value) -> None:\n",
    "    df.loc[:, col] = df.loc[:, col].fillna(value)\n",
    "\n",
    "\n",
    "# Alley : data description says NA means \"no alley access\"\n",
    "replace_na(df, \"Alley\", value=\"None\")\n",
    "\n",
    "# BedroomAbvGr : NA most likely means 0\n",
    "replace_na(df, \"BedroomAbvGr\", value=0)\n",
    "\n",
    "# BsmtQual etc : data description says NA for basement features is \"no basement\"\n",
    "replace_na(df, \"BsmtQual\", value=\"No\")\n",
    "replace_na(df, \"BsmtCond\", value=\"No\")\n",
    "replace_na(df, \"BsmtExposure\", value=\"No\")\n",
    "replace_na(df, \"BsmtFinType1\", value=\"No\")\n",
    "replace_na(df, \"BsmtFinType2\", value=\"No\")\n",
    "replace_na(df, \"BsmtFullBath\", value=0)\n",
    "replace_na(df, \"BsmtHalfBath\", value=0)\n",
    "replace_na(df, \"BsmtUnfSF\", value=0)\n",
    "\n",
    "# Condition : NA most likely means Normal\n",
    "replace_na(df, \"Condition1\", value=\"Norm\")\n",
    "replace_na(df, \"Condition2\", value=\"Norm\")\n",
    "\n",
    "# External stuff : NA most likely means average\n",
    "replace_na(df, \"ExterCond\", value=\"TA\")\n",
    "replace_na(df, \"ExterQual\", value=\"TA\")\n",
    "\n",
    "# Fence : data description says NA means \"no fence\"\n",
    "replace_na(df, \"Fence\", value=\"No\")\n",
    "\n",
    "# Functional : data description says NA means typical\n",
    "replace_na(df, \"Functional\", value=\"Typ\")\n",
    "\n",
    "# GarageType etc : data description says NA for garage features is \"no garage\"\n",
    "replace_na(df, \"GarageType\", value=\"No\")\n",
    "replace_na(df, \"GarageFinish\", value=\"No\")\n",
    "replace_na(df, \"GarageQual\", value=\"No\")\n",
    "replace_na(df, \"GarageCond\", value=\"No\")\n",
    "replace_na(df, \"GarageArea\", value=0)\n",
    "replace_na(df, \"GarageCars\", value=0)\n",
    "\n",
    "# HalfBath : NA most likely means no half baths above grade\n",
    "replace_na(df, \"HalfBath\", value=0)\n",
    "\n",
    "# HeatingQC : NA most likely means typical\n",
    "replace_na(df, \"HeatingQC\", value=\"Ta\")\n",
    "\n",
    "# KitchenAbvGr : NA most likely means 0\n",
    "replace_na(df, \"KitchenAbvGr\", value=0)\n",
    "\n",
    "# KitchenQual : NA most likely means typical\n",
    "replace_na(df, \"KitchenQual\", value=\"TA\")\n",
    "\n",
    "# LotFrontage : NA most likely means no lot frontage\n",
    "replace_na(df, \"LotFrontage\", value=0)\n",
    "\n",
    "# LotShape : NA most likely means regular\n",
    "replace_na(df, \"LotShape\", value=\"Reg\")\n",
    "\n",
    "# MasVnrType : NA most likely means no veneer\n",
    "replace_na(df, \"MasVnrType\", value=\"None\")\n",
    "replace_na(df, \"MasVnrArea\", value=0)\n",
    "\n",
    "# MiscFeature : data description says NA means \"no misc feature\"\n",
    "replace_na(df, \"MiscFeature\", value=\"No\")\n",
    "replace_na(df, \"MiscVal\", value=0)\n",
    "\n",
    "# OpenPorchSF : NA most likely means no open porch\n",
    "replace_na(df, \"OpenPorchSF\", value=0)\n",
    "\n",
    "# PavedDrive : NA most likely means not paved\n",
    "replace_na(df, \"PavedDrive\", value=\"N\")\n",
    "\n",
    "# PoolQC : data description says NA means \"no pool\"\n",
    "replace_na(df, \"PoolQC\", value=\"No\")\n",
    "replace_na(df, \"PoolArea\", value=0)\n",
    "\n",
    "# SaleCondition : NA most likely means normal sale\n",
    "replace_na(df, \"SaleCondition\", value=\"Normal\")\n",
    "\n",
    "# ScreenPorch : NA most likely means no screen porch\n",
    "replace_na(df, \"ScreenPorch\", value=0)\n",
    "\n",
    "# TotRmsAbvGrd : NA most likely means 0\n",
    "replace_na(df, \"TotRmsAbvGrd\", value=0)\n",
    "\n",
    "# Utilities : NA most likely means all public utilities\n",
    "replace_na(df, \"Utilities\", value=\"AllPub\")\n",
    "\n",
    "# WoodDeckSF : NA most likely means no wood deck\n",
    "replace_na(df, \"WoodDeckSF\", value=0)\n",
    "\n",
    "# CentralAir : NA most likely means No\n",
    "replace_na(df, \"CentralAir\", value=\"N\")\n",
    "\n",
    "# EnclosedPorch : NA most likely means no enclosed porch\n",
    "replace_na(df, \"EnclosedPorch\", value=0)\n",
    "\n",
    "# FireplaceQu : data description says NA means \"no fireplace\"\n",
    "replace_na(df, \"FireplaceQu\", value=\"No\")\n",
    "replace_na(df, \"Fireplaces\", value=0)\n",
    "\n",
    "# SaleCondition : NA most likely means normal sale\n",
    "replace_na(df, \"SaleCondition\", value=\"Normal\")\n",
    "\n",
    "# Electrical : NA most likely means standard circuit & breakers\n",
    "replace_na(df, \"Electrical\", value=\"SBrkr\")"
   ]
  },
  {
   "cell_type": "markdown",
   "metadata": {},
   "source": [
    "W dalszej kolejności zamienimy zmienne `MSSubClass` i `MoSold` z numerycznych na kategoryczne, zgodnie z ich znaczeniem. Zakodujemy także zmienne kategoryczne uporządkowane (categorical ordinal) z tekstowych na kolejne liczby całkowite."
   ]
  },
  {
   "cell_type": "code",
   "execution_count": 9,
   "metadata": {
    "execution": {
     "iopub.execute_input": "2025-03-20T19:14:51.005982Z",
     "iopub.status.busy": "2025-03-20T19:14:51.005790Z",
     "iopub.status.idle": "2025-03-20T19:14:51.014395Z",
     "shell.execute_reply": "2025-03-20T19:14:51.013996Z",
     "shell.execute_reply.started": "2025-03-20T19:14:51.005963Z"
    },
    "scrolled": true
   },
   "outputs": [],
   "source": [
    "df = df.replace(\n",
    "    {\n",
    "        \"MSSubClass\": {\n",
    "            20: \"SC20\",\n",
    "            30: \"SC30\",\n",
    "            40: \"SC40\",\n",
    "            45: \"SC45\",\n",
    "            50: \"SC50\",\n",
    "            60: \"SC60\",\n",
    "            70: \"SC70\",\n",
    "            75: \"SC75\",\n",
    "            80: \"SC80\",\n",
    "            85: \"SC85\",\n",
    "            90: \"SC90\",\n",
    "            120: \"SC120\",\n",
    "            150: \"SC150\",\n",
    "            160: \"SC160\",\n",
    "            180: \"SC180\",\n",
    "            190: \"SC190\",\n",
    "        },\n",
    "        \"MoSold\": {\n",
    "            1: \"Jan\",\n",
    "            2: \"Feb\",\n",
    "            3: \"Mar\",\n",
    "            4: \"Apr\",\n",
    "            5: \"May\",\n",
    "            6: \"Jun\",\n",
    "            7: \"Jul\",\n",
    "            8: \"Aug\",\n",
    "            9: \"Sep\",\n",
    "            10: \"Oct\",\n",
    "            11: \"Nov\",\n",
    "            12: \"Dec\",\n",
    "        },\n",
    "    }\n",
    ")"
   ]
  },
  {
   "cell_type": "code",
   "execution_count": 10,
   "metadata": {
    "execution": {
     "iopub.execute_input": "2025-03-20T19:14:51.015145Z",
     "iopub.status.busy": "2025-03-20T19:14:51.014890Z",
     "iopub.status.idle": "2025-03-20T19:14:51.049846Z",
     "shell.execute_reply": "2025-03-20T19:14:51.049227Z",
     "shell.execute_reply.started": "2025-03-20T19:14:51.015127Z"
    }
   },
   "outputs": [
    {
     "name": "stderr",
     "output_type": "stream",
     "text": [
      "/tmp/ipykernel_826487/3839597250.py:1: FutureWarning: Downcasting behavior in `replace` is deprecated and will be removed in a future version. To retain the old behavior, explicitly call `result.infer_objects(copy=False)`. To opt-in to the future behavior, set `pd.set_option('future.no_silent_downcasting', True)`\n",
      "  df = df.replace(\n"
     ]
    }
   ],
   "source": [
    "df = df.replace(\n",
    "    {\n",
    "        \"Alley\": {\"None\": 0, \"Grvl\": 1, \"Pave\": 2},\n",
    "        \"BsmtCond\": {\"No\": 0, \"Po\": 1, \"Fa\": 2, \"TA\": 3, \"Gd\": 4, \"Ex\": 5},\n",
    "        \"BsmtExposure\": {\"No\": 0, \"Mn\": 1, \"Av\": 2, \"Gd\": 3},\n",
    "        \"BsmtFinType1\": {\n",
    "            \"No\": 0,\n",
    "            \"Unf\": 1,\n",
    "            \"LwQ\": 2,\n",
    "            \"Rec\": 3,\n",
    "            \"BLQ\": 4,\n",
    "            \"ALQ\": 5,\n",
    "            \"GLQ\": 6,\n",
    "        },\n",
    "        \"BsmtFinType2\": {\n",
    "            \"No\": 0,\n",
    "            \"Unf\": 1,\n",
    "            \"LwQ\": 2,\n",
    "            \"Rec\": 3,\n",
    "            \"BLQ\": 4,\n",
    "            \"ALQ\": 5,\n",
    "            \"GLQ\": 6,\n",
    "        },\n",
    "        \"BsmtQual\": {\"No\": 0, \"Po\": 1, \"Fa\": 2, \"TA\": 3, \"Gd\": 4, \"Ex\": 5},\n",
    "        \"ExterCond\": {\"Po\": 1, \"Fa\": 2, \"TA\": 3, \"Gd\": 4, \"Ex\": 5},\n",
    "        \"ExterQual\": {\"Po\": 1, \"Fa\": 2, \"TA\": 3, \"Gd\": 4, \"Ex\": 5},\n",
    "        \"FireplaceQu\": {\"No\": 0, \"Po\": 1, \"Fa\": 2, \"TA\": 3, \"Gd\": 4, \"Ex\": 5},\n",
    "        \"Functional\": {\n",
    "            \"Sal\": 1,\n",
    "            \"Sev\": 2,\n",
    "            \"Maj2\": 3,\n",
    "            \"Maj1\": 4,\n",
    "            \"Mod\": 5,\n",
    "            \"Min2\": 6,\n",
    "            \"Min1\": 7,\n",
    "            \"Typ\": 8,\n",
    "        },\n",
    "        \"GarageCond\": {\"No\": 0, \"Po\": 1, \"Fa\": 2, \"TA\": 3, \"Gd\": 4, \"Ex\": 5},\n",
    "        \"GarageQual\": {\"No\": 0, \"Po\": 1, \"Fa\": 2, \"TA\": 3, \"Gd\": 4, \"Ex\": 5},\n",
    "        \"HeatingQC\": {\"Po\": 1, \"Fa\": 2, \"TA\": 3, \"Gd\": 4, \"Ex\": 5},\n",
    "        \"KitchenQual\": {\"Po\": 1, \"Fa\": 2, \"TA\": 3, \"Gd\": 4, \"Ex\": 5},\n",
    "        \"LandSlope\": {\"Sev\": 1, \"Mod\": 2, \"Gtl\": 3},\n",
    "        \"LotShape\": {\"IR3\": 1, \"IR2\": 2, \"IR1\": 3, \"Reg\": 4},\n",
    "        \"PavedDrive\": {\"N\": 0, \"P\": 1, \"Y\": 2},\n",
    "        \"PoolQC\": {\"No\": 0, \"Fa\": 1, \"TA\": 2, \"Gd\": 3, \"Ex\": 4},\n",
    "        \"Street\": {\"Grvl\": 1, \"Pave\": 2},\n",
    "        \"Utilities\": {\"ELO\": 1, \"NoSeWa\": 2, \"NoSewr\": 3, \"AllPub\": 4},\n",
    "    }\n",
    ")"
   ]
  },
  {
   "cell_type": "markdown",
   "metadata": {},
   "source": [
    "W Pandasie zmienne kategoryczne, napisy itp. są typu `object`, natomiast numeryczne mają typy z Numpy'a, np. `int64`. Oczywiście oba rodzaje zmiennych trzeba przetwarzać na inne sposoby, więc zapiszemy to od razu. Wyodrębnimy też wektor docelowy.\n",
    "\n",
    "Od razu dokonamy też podziału na zbiór treningowy i testowy. Jako że nasz zbiór jest dość mały, to podział będzie 70%-30%."
   ]
  },
  {
   "cell_type": "code",
   "execution_count": 11,
   "metadata": {
    "execution": {
     "iopub.execute_input": "2025-03-20T19:14:51.050721Z",
     "iopub.status.busy": "2025-03-20T19:14:51.050366Z",
     "iopub.status.idle": "2025-03-20T19:14:51.081342Z",
     "shell.execute_reply": "2025-03-20T19:14:51.080991Z",
     "shell.execute_reply.started": "2025-03-20T19:14:51.050706Z"
    }
   },
   "outputs": [],
   "source": [
    "from sklearn.model_selection import train_test_split\n",
    "\n",
    "y = df.pop(\"SalePrice\")\n",
    "\n",
    "categorical_features = df.select_dtypes(include=\"object\").columns\n",
    "numerical_features = df.select_dtypes(exclude=\"object\").columns\n",
    "\n",
    "X_train_raw, X_test_raw, y_train, y_test = train_test_split(\n",
    "    df, y, test_size=0.3, random_state=0\n",
    ")"
   ]
  },
  {
   "cell_type": "markdown",
   "metadata": {},
   "source": [
    "## Analiza i przetwarzanie cech"
   ]
  },
  {
   "cell_type": "markdown",
   "metadata": {},
   "source": [
    "Modele liniowe działają najlepiej, kiedy nasze cechy są odpowiednio przetworzone:\n",
    "- nie może być wartości brakujących\n",
    "- wszystkie zmienne mają podobny zakres wartości\n",
    "- nie ma mocno skorelowanych ze sobą cech\n",
    "- zmienne kategoryczne muszą być zakodowane, przy czym dobrze jest, kiedy cech nie jest zbyt dużo\n",
    "\n",
    "Na start imputujemy wartości brakujące w zmiennych numerycznych i przeskalujemy je do zakresu $[0, 1]$. Potem dokonamy analizy, czy mamy mocno skorelowane zmienne.\n",
    "\n",
    "Przy przetwarzaniu danych krok po kroku lepiej robić nowe zmienne, żeby dało się odpalić znowu komórkę notebooka. Przy reużywaniu zmiennych mogłaby nastąpić konieczność uruchomienia wszystkiego od początku. Może ci się to przydać w zadaniach.\n",
    "\n",
    "Pamiętaj, żeby we wszystkich kolejnych zadaniach zastosować taką samą transformację na zbiorze treningowym i testowym. Wszelkie wartości estymujemy na zbiorze treningowym.\n",
    "\n",
    "**Zadanie 2 (0.5 punktu)**\n",
    "\n",
    "Wybierz same zmienne numeryczne. Dokonaj imputacji wartości brakujących medianą, oraz przeskaluj wartości do zakresu $[0, 1]$. Przydatne klasy: `ColumnTransformer`, `Pipeline`, `SimpleImputer`, `MinMaxScaler`.\n",
    "\n",
    "Domyślnie `ColumnTransformer` dopisuje do nazw cech wyjściowych nazwę transformera jako prefix. Bywa to dość nieczytelne i problematyczne w dalszym przetwarzaniu danych. Żeby to wyłączyć, przekaż opcję `verbose_feature_names_out=False`."
   ]
  },
  {
   "cell_type": "code",
   "execution_count": 12,
   "metadata": {
    "execution": {
     "iopub.execute_input": "2025-03-20T19:14:51.081970Z",
     "iopub.status.busy": "2025-03-20T19:14:51.081716Z",
     "iopub.status.idle": "2025-03-20T19:14:51.137041Z",
     "shell.execute_reply": "2025-03-20T19:14:51.136584Z",
     "shell.execute_reply.started": "2025-03-20T19:14:51.081958Z"
    }
   },
   "outputs": [],
   "source": [
    "from sklearn.pipeline import Pipeline\n",
    "from sklearn.impute import SimpleImputer\n",
    "from sklearn.preprocessing import MinMaxScaler\n",
    "from sklearn.compose import ColumnTransformer\n",
    "\n",
    "imputer = SimpleImputer(strategy=\"median\")\n",
    "scaler = MinMaxScaler()\n",
    "pipeline = Pipeline([\n",
    "    (\"imputer\", imputer),\n",
    "    (\"scaler\", scaler)\n",
    "])\n",
    "\n",
    "column_transformer = ColumnTransformer([(\"pipe\", pipeline, numerical_features)], verbose_feature_names_out=False)\n",
    "\n",
    "X_train_tr = column_transformer.fit_transform(X_train_raw, y_train)\n",
    "X_test_tr = column_transformer.transform(X_test_raw)"
   ]
  },
  {
   "cell_type": "markdown",
   "metadata": {},
   "source": [
    "Sprawdźmy teraz, czy mamy mocno skorelowane zmienne. Typowo przyjmuje się wartość bezwzględną korelacji powyżej progu 0.8/0.9/0.95. Pierwszą weryfikację można zrobić \"na oko\" na podstawie wykresu typu heatmap. Przekątną oczywiście ignorujemy - każda cecha ma korelację 1.0 z samą sobą.\n",
    "\n",
    "Jeżeli zauważymy grupy skorelowanych cech, to z każdej grupy trzeba zostawić jedną cechę. Biblioteka Feature-engine, komplatybilna ze Scikie-learn, oferuje tutaj wygodną klasę `SmartCorrelatedSelection`, która pozwala z każdej grupy cech zostawić tę o największej wariancji.\n",
    "\n",
    "Czemu o największej wariancji? Bo taka cecha jest mocno zmienna, a więc niesie jakąś informację. Cechy o bardzo niskiej wariancji praktycznie się nie zmieniają, więc prawdopodobnie nie są zbyt informatywne.\n",
    "\n",
    "**Zadanie 3 (0.5 punktu)**\n",
    "\n",
    "Oblicz korelacje między cechami w zbiorze treningowym, oraz narysuj heatmapę korelacji. Pandas potrafi obliczyć korelacje, a Seaborn - narysować wygodnie heatmapę.\n",
    "\n",
    "Następnie wykorzystaj Feature-engine do eliminacji mocno skorelowanych cech, z progiem 0.8 (mamy sporo cech, więc eliminujmy, czemu nie), pozostawiając cechy o największej wariancji. Wypisz nazwy wyeliminowanych cech."
   ]
  },
  {
   "cell_type": "code",
   "execution_count": 13,
   "metadata": {
    "execution": {
     "iopub.execute_input": "2025-03-20T19:14:51.137688Z",
     "iopub.status.busy": "2025-03-20T19:14:51.137469Z",
     "iopub.status.idle": "2025-03-20T19:14:51.474159Z",
     "shell.execute_reply": "2025-03-20T19:14:51.473718Z",
     "shell.execute_reply.started": "2025-03-20T19:14:51.137670Z"
    }
   },
   "outputs": [
    {
     "name": "stdout",
     "output_type": "stream",
     "text": [
      "['Fireplaces', 'GarageArea', 'BsmtFinSF2', 'TotRmsAbvGrd', 'GarageCond', 'PoolQC']\n"
     ]
    },
    {
     "data": {
      "text/plain": [
       "set()"
      ]
     },
     "execution_count": 13,
     "metadata": {},
     "output_type": "execute_result"
    },
    {
     "data": {
      "image/png": "[encoded data removed]",
      "text/plain": [
       "<Figure size 640x480 with 2 Axes>"
      ]
     },
     "metadata": {},
     "output_type": "display_data"
    }
   ],
   "source": [
    "import seaborn as sns\n",
    "from feature_engine.selection import SmartCorrelatedSelection\n",
    "\n",
    "corr = X_train_tr.corr()\n",
    "sns.heatmap(corr)\n",
    "tr = SmartCorrelatedSelection(\n",
    "    variables=None,\n",
    "    method=\"pearson\",\n",
    "    threshold=0.8,\n",
    "    missing_values=\"raise\",\n",
    "    selection_method=\"variance\",\n",
    "    estimator=None,\n",
    ")\n",
    "X_train_cor = tr.fit_transform(X_train_tr, y_train)\n",
    "X_test_cor = tr.transform(X_test_tr)\n",
    "print(tr.features_to_drop_)\n",
    "set(tr.features_to_drop_).intersection(set(X_train_cor.columns))"
   ]
  },
  {
   "cell_type": "markdown",
   "metadata": {},
   "source": [
    "Przejdźmy teraz do zmiennych kategorycznych. Jeżeli pewne kategorie występują bardzo rzadko, to prawdopodobnie nie ma sensu ich rozróżniać, i można by je połączyć w jedną, np. \"Other\" albo \"Rare\". Eliminacja rzadkich kategorii bardzo zmniejszy wymiarowość po one-hot encodingu, redukując złożoność obliczeniową i pamięciową. Często robi się to nawet głównie z tego powodu, nawet jeżeli lekko pogorszy to wyniki (aczkolwiek często daje nieco lepsze).\n",
    "\n",
    "Po tym kroku możemy już wykonać one-hot encoding i uzyskać nasze zmienne kategoryczne.\n",
    "\n",
    "**Zadanie 4 (0.5 punktu)**\n",
    "\n",
    "Stwórz `ColumnTransformer`, wykonujący w pipeline'ie dla zmiennych kategorycznych (analogicznie jak w zadaniu 1 dla zmiennych numerycznych):\n",
    "- łączenie rzadkich kategorii (występujących w mniej niż 1% wierszy) w kategorię \"Rare\"\n",
    "- one-hot encoding\n",
    "\n",
    "Dla uniknięcia dummy variable trap, oraz zmniejszenia liczby wynikowych cech, podaj `drop=\"first\"` w one-hot encodingu.\n",
    "\n",
    "Przyda się `RareLabelEncoder` z Feature-engine. Żeby zadziałał dla każdej cechy, podaj mu `n_categories=0`."
   ]
  },
  {
   "cell_type": "code",
   "execution_count": 14,
   "metadata": {
    "execution": {
     "iopub.execute_input": "2025-03-20T19:14:51.474752Z",
     "iopub.status.busy": "2025-03-20T19:14:51.474552Z",
     "iopub.status.idle": "2025-03-20T19:14:51.541269Z",
     "shell.execute_reply": "2025-03-20T19:14:51.540952Z",
     "shell.execute_reply.started": "2025-03-20T19:14:51.474731Z"
    },
    "scrolled": true
   },
   "outputs": [],
   "source": [
    "from feature_engine.encoding import RareLabelEncoder\n",
    "from sklearn.preprocessing import OneHotEncoder\n",
    "\n",
    "rle = RareLabelEncoder(n_categories=0, tol=0.2)\n",
    "ohe = OneHotEncoder(drop=\"first\", sparse_output=False)\n",
    "\n",
    "cat_pipe = Pipeline([(\"rare label encoder\", rle), (\"one hot encoder\", ohe)])\n",
    "cat_colt = ColumnTransformer([(\"cat pipeline\", cat_pipe, categorical_features)], verbose_feature_names_out=False)\n",
    "\n",
    "X_train_cat = cat_colt.fit_transform(X_train_raw, y_train)\n",
    "X_test_cat = cat_colt.transform(X_test_raw)"
   ]
  },
  {
   "cell_type": "markdown",
   "metadata": {},
   "source": [
    "Teraz nasze cechy są w pełni przeprocesowane i gotowe do obliczeń. Trzeba je tylko połączyć - zmodyfikuj kod poniżej w zależności od nazw twoich zmiennych."
   ]
  },
  {
   "cell_type": "code",
   "execution_count": 15,
   "metadata": {
    "execution": {
     "iopub.execute_input": "2025-03-20T19:14:51.541766Z",
     "iopub.status.busy": "2025-03-20T19:14:51.541632Z",
     "iopub.status.idle": "2025-03-20T19:14:51.546070Z",
     "shell.execute_reply": "2025-03-20T19:14:51.545497Z",
     "shell.execute_reply.started": "2025-03-20T19:14:51.541756Z"
    }
   },
   "outputs": [],
   "source": [
    "X_train_num = X_train_cor.copy()\n",
    "X_test_num = X_test_cor.copy()\n",
    "\n",
    "X_train = pd.concat([X_train_num, X_train_cat], axis=1)\n",
    "X_test = pd.concat([X_test_num, X_test_cat], axis=1)"
   ]
  },
  {
   "cell_type": "code",
   "execution_count": 16,
   "metadata": {
    "execution": {
     "iopub.execute_input": "2025-03-20T19:14:51.546950Z",
     "iopub.status.busy": "2025-03-20T19:14:51.546725Z",
     "iopub.status.idle": "2025-03-20T19:14:51.555571Z",
     "shell.execute_reply": "2025-03-20T19:14:51.555072Z",
     "shell.execute_reply.started": "2025-03-20T19:14:51.546935Z"
    }
   },
   "outputs": [
    {
     "data": {
      "text/plain": [
       "(2045, 77)"
      ]
     },
     "execution_count": 16,
     "metadata": {},
     "output_type": "execute_result"
    }
   ],
   "source": [
    "X_train.shape"
   ]
  },
  {
   "cell_type": "markdown",
   "metadata": {},
   "source": [
    "## Regresja liniowa, ridge i LASSO"
   ]
  },
  {
   "cell_type": "markdown",
   "metadata": {},
   "source": [
    "Naszym baseline'owym modelem liniowym, do którego będziemy odnosić bardziej złożone modele, będzie zwykła **regresja liniowa (linear regression)**\n",
    "\n",
    "Naszymi metrykami będą zarówno **pierwiastek błędu średniokwadratowego (root mean squared error, RMSE)**, jak i **średni błąd bezwzględny (mean absolute error)**. Oba są w tej samej jednostce, co oryginalna zmienna zależna, ale skupiają się na innych rzeczach:\n",
    "- RMSE bardziej uwzględni predykcje w ogonie, czyli drogie domy\n",
    "- MAE bardziej skupi się na przeciętnym przypadku, czyli cenach bliżej mediany\n",
    "\n",
    "W praktyce często interesuje nas kilka metryk, a mamy dużo modeli do sprawdzanie. Żeby nie kopiować kodu, warto zrobić funkcję, obliczającą i wypisującą metryki dla danego problemu. Dodatkowo tutaj musimy odwrócić logarytm, który zastosowaliśmy na początku, i takie odwrotne przekształcenia też dobrze jest zawrzeć w takiej funkcji."
   ]
  },
  {
   "cell_type": "code",
   "execution_count": 17,
   "metadata": {
    "execution": {
     "iopub.execute_input": "2025-03-20T19:14:51.556307Z",
     "iopub.status.busy": "2025-03-20T19:14:51.556161Z",
     "iopub.status.idle": "2025-03-20T19:14:51.562096Z",
     "shell.execute_reply": "2025-03-20T19:14:51.561547Z",
     "shell.execute_reply.started": "2025-03-20T19:14:51.556293Z"
    }
   },
   "outputs": [],
   "source": [
    "from sklearn.metrics import root_mean_squared_error, mean_absolute_error\n",
    "\n",
    "\n",
    "def evaluate_model(\n",
    "    y_train: np.ndarray,\n",
    "    y_test: np.ndarray,\n",
    "    y_pred_train: np.ndarray,\n",
    "    y_pred_test: np.ndarray,\n",
    ") -> None:\n",
    "    y_train = np.expm1(y_train)\n",
    "    y_test = np.expm1(y_test)\n",
    "\n",
    "    y_pred_train = np.expm1(y_pred_train)\n",
    "    y_pred_test = np.expm1(y_pred_test)\n",
    "\n",
    "    rmse_train = root_mean_squared_error(y_train, y_pred_train)\n",
    "    mae_train = mean_absolute_error(y_train, y_pred_train)\n",
    "\n",
    "    rmse_test = root_mean_squared_error(y_test, y_pred_test)\n",
    "    mae_test = mean_absolute_error(y_test, y_pred_test)\n",
    "\n",
    "    print(f\"Train RMSE {rmse_train:.2f}, MAE: {mae_train:.2f}\")\n",
    "    print(f\"Test  RMSE {rmse_test:.2f}, MAE: {mae_test:.2f}\")"
   ]
  },
  {
   "cell_type": "markdown",
   "metadata": {},
   "source": [
    "Jesteśmy teraz gotowi na trening naszych modeli. Na start wytrenujmy zwykłą regresję liniową."
   ]
  },
  {
   "cell_type": "code",
   "execution_count": 18,
   "metadata": {
    "execution": {
     "iopub.execute_input": "2025-03-20T19:14:51.562742Z",
     "iopub.status.busy": "2025-03-20T19:14:51.562570Z",
     "iopub.status.idle": "2025-03-20T19:14:51.587357Z",
     "shell.execute_reply": "2025-03-20T19:14:51.586863Z",
     "shell.execute_reply.started": "2025-03-20T19:14:51.562726Z"
    },
    "scrolled": true
   },
   "outputs": [
    {
     "name": "stdout",
     "output_type": "stream",
     "text": [
      "Train RMSE 20167.30, MAE: 13991.11\n",
      "Test  RMSE 20780.57, MAE: 14696.40\n"
     ]
    }
   ],
   "source": [
    "from sklearn.linear_model import LinearRegression\n",
    "\n",
    "reg_linear = LinearRegression()\n",
    "reg_linear.fit(X_train, y_train)\n",
    "\n",
    "y_pred_train = reg_linear.predict(X_train)\n",
    "y_pred_test = reg_linear.predict(X_test)\n",
    "evaluate_model(y_train, y_test, y_pred_train, y_pred_test)\n"
   ]
  },
  {
   "cell_type": "markdown",
   "metadata": {},
   "source": [
    "Całkiem nieźle. Dla porównania, bez usuwania skorelowanych cech i grupowania rzadkich cech, RMSE na zbiorze testowym to ponad 21 tysięcy, a model wyraźnie przeucza. Warto wykonywać odpowiedni preprocessing danych!\n",
    "\n",
    "Mamy tu wyraźną różnicę między RMSE i MAE. Można się temu przyjrzeć i przeanalizować rozkład **rezyduów (residuals)**, czyli błędów $y - \\hat{y}$.\n",
    "\n",
    "**Zadanie 5 (0.5 punktu)**\n",
    "\n",
    "Narysuj rozkład błędów popełnianych przez model regresji liniowej. Pamiętaj o odwróceniu logarytmu eksponentą (`np.expm1`). Dobierz liczbę binów histogramu tak, żeby wykres był odpowiednio czytelny. Zaznacz liniami pionowymi średnią oraz medianę. Pamiętaj o opisaniu osi Y, legendzie i tytule.\n",
    "\n",
    "Skomentuj rozkład. Jest symetryczny? Może częściej nie doceniamy wartości domu, albo ją przeceniamy, albo może są tu jakiejś pojedyncze outliery? Czy na podstawie tych rezyduów można wytłumaczyć różnicę między MAE i RMSE?"
   ]
  },
  {
   "cell_type": "code",
   "execution_count": 42,
   "metadata": {
    "execution": {
     "iopub.execute_input": "2025-03-20T21:17:37.580583Z",
     "iopub.status.busy": "2025-03-20T21:17:37.580287Z",
     "iopub.status.idle": "2025-03-20T21:17:37.774669Z",
     "shell.execute_reply": "2025-03-20T21:17:37.774355Z",
     "shell.execute_reply.started": "2025-03-20T21:17:37.580562Z"
    }
   },
   "outputs": [
    {
     "data": {
      "image/png": "[encoded data removed]",
      "text/plain": [
       "<Figure size 640x480 with 1 Axes>"
      ]
     },
     "metadata": {},
     "output_type": "display_data"
    },
    {
     "data": {
      "text/plain": [
       "Text(0.5, 1.0, 'Amount of results with a given error (train set)')"
      ]
     },
     "execution_count": 42,
     "metadata": {},
     "output_type": "execute_result"
    },
    {
     "data": {
      "image/png": "[encoded data removed]",
      "text/plain": [
       "<Figure size 640x480 with 1 Axes>"
      ]
     },
     "metadata": {},
     "output_type": "display_data"
    }
   ],
   "source": [
    "plt.hist(np.expm1(y_pred_test) - np.expm1(y_test), bins=30, color=\"blue\")\n",
    "plt.title(\"Amount of results with a given error (test set)\")\n",
    "plt.show()\n",
    "plt.hist(np.expm1(y_pred_train) - np.expm1(y_train), bins=30, color=\"green\")\n",
    "plt.title(\"Amount of results with a given error (train set)\")"
   ]
  },
  {
   "cell_type": "markdown",
   "metadata": {},
   "source": [
    "// skomentuj tutaj"
   ]
  },
  {
   "cell_type": "markdown",
   "metadata": {},
   "source": [
    "Mamy pewien overfitting - co prawda niewielki, ale zawsze jest coś do wyeliminowania. Dodatkowo mamy aż 175 cech - jeżeli niektóre z nich mają bardzo niską moc predykcyjną, to redukcja ich wag (lub ich usunięcie) może poprawić nawet i wynik treningowy, i testowy, bo zredukuje szum.\n",
    "\n",
    "Warto każdy model zapisywać w zmiennej o innej nazwie, żeby później móc dokonać ich porównania. Przykładowo, `reg_linear` czy `reg_ridge` jest lepszym pomysłem niż samo `reg`.\n",
    "\n",
    "Typowo siłę regularyzacji wybiera się tak, że najpierw szacujemy rząd wielkości, sprawdzając np. siatkę `[1e-3, 1e-2, 1e-1, 1, 1e1, 1e2, 1e3]`, a później zagęszczając ją w okolicy znalezionej optymalnej wartości. Można to oczywiście robić w kilku krokach.\n",
    "\n",
    "**Zadanie 6 (1 punkt)**\n",
    "\n",
    "Wytrenuj modele z regularyzacją L2 (ridge) oraz L1 (LASSO). Dobierz siłę regularyzacji, najpierw estymując rząd wielkości, a potem zagęszczając siatkę. Dla regresji ridge wybieraj model o optymalnym MAE (argument `scoring`). Zmierz czas tuningu podczas drugiego kroku, po zagęszczeniu siatki.\n",
    "\n",
    "Wypisz optymalne hiperparametry dla obu modeli, oraz ich metryki jakości.\n",
    "\n",
    "Przydadzą się `np.linspace()`, `RidgeCV` oraz `LassoCV`."
   ]
  },
  {
   "cell_type": "code",
   "execution_count": 20,
   "metadata": {
    "execution": {
     "iopub.execute_input": "2025-03-20T19:14:51.853825Z",
     "iopub.status.busy": "2025-03-20T19:14:51.853652Z",
     "iopub.status.idle": "2025-03-20T19:14:51.917033Z",
     "shell.execute_reply": "2025-03-20T19:14:51.916530Z",
     "shell.execute_reply.started": "2025-03-20T19:14:51.853806Z"
    }
   },
   "outputs": [
    {
     "name": "stdout",
     "output_type": "stream",
     "text": [
      "Ridge alpha: 1.0\n",
      "Lasso alpha: 0.001\n"
     ]
    }
   ],
   "source": [
    "from sklearn.linear_model import RidgeCV, LassoCV\n",
    "\n",
    "reg_ridge = RidgeCV(alphas=(alphas := np.logspace(-3, 3, 7)), scoring=\"neg_mean_absolute_error\")\n",
    "reg_lasso = LassoCV(alphas=alphas)\n",
    "reg_ridge.fit(X_train, y_train)\n",
    "reg_lasso.fit(X_train, y_train)\n",
    "\n",
    "print(f\"Ridge alpha: {reg_ridge.alpha_}\\nLasso alpha: {reg_lasso.alpha_}\")"
   ]
  },
  {
   "cell_type": "markdown",
   "metadata": {},
   "source": [
    "Dużą zaletą modeli liniowych jest możliwość analizy ważności cech oraz ich kierunku wpływu. W przypadku regresji z regularyzacją jest to szczególnie ciekawe.\n",
    "\n",
    "Jeżeli cecha \"przetrwa\" z dużą wagą w ridge regression, to znaczy, że musi być naprawdę ważna, bo inaczej opłacałoby się zmniejszyć jej wagę, żeby zmniejszyć koszt z regularyzacji. Z drugiej strony, w regresji LASSO jeżeli cecha została wyeliminowana, to musiała mieć na tyle małą moc predykcyjną, że modelowi bardziej opłacało się ją usunąć i zmniejszyć koszt z regularyzacji.\n",
    "\n",
    "**Zadanie 7 (0.5 punktu)**\n",
    "\n",
    "W tym zadaniu skorzystaj z optymalnych modeli, wyznaczonych w poprzednim zadaniu.\n",
    "\n",
    "1. Wybierz 20 najważniejszych cech według ridge regression (w sensie wartości bezwzględnej ich wag). Przedstaw je na poziomym wykresie słupkowym (horizontal bar plot), posortowane według wartości bezwzględnej. Na wykresie mają być wartości wag z wpływem (dodatni/ujemny). Pamiętaj o opisaniu osi nazwami cech i tytule wykresu.\n",
    "2. Wypisz nazwy cech wyeliminowanych przez LASSO regression, posortowane alfabetycznie. Zakładamy, że cecha jest wyeliminowana, jeżeli dla `np.isclose()` jej waga jest bliska zeru.\n",
    "\n",
    "Mogą się przydać atrybuty modelu `.coef_` oraz `.feature_names_in_`. Wszystkie operacje można łatwo wykonać, konwertując dane na `pd.Series`."
   ]
  },
  {
   "cell_type": "code",
   "execution_count": 25,
   "metadata": {
    "execution": {
     "iopub.execute_input": "2025-03-20T19:16:29.342683Z",
     "iopub.status.busy": "2025-03-20T19:16:29.342092Z",
     "iopub.status.idle": "2025-03-20T19:16:29.459590Z",
     "shell.execute_reply": "2025-03-20T19:16:29.459283Z",
     "shell.execute_reply.started": "2025-03-20T19:16:29.342634Z"
    }
   },
   "outputs": [
    {
     "data": {
      "image/png": "[encoded data removed]",
      "text/plain": [
       "<Figure size 640x480 with 1 Axes>"
      ]
     },
     "metadata": {},
     "output_type": "display_data"
    }
   ],
   "source": [
    "ridge_params = np.abs(pd.Series(data=reg_ridge.coef_, index=reg_ridge.feature_names_in_))\n",
    "ridge_params = ridge_params.sort_values()\n",
    "plt.barh(ridge_params.index[-20:], ridge_params.values[-20:], color=\"blue\")\n",
    "plt.title(\"Values of weights for specific features\")\n",
    "plt.xlabel(\"Weight\")\n",
    "plt.ylabel(\"Feature name\")\n",
    "plt.show()"
   ]
  },
  {
   "cell_type": "markdown",
   "metadata": {},
   "source": [
    "## Robust regression"
   ]
  },
  {
   "cell_type": "markdown",
   "metadata": {},
   "source": [
    "Powyższe algorytmy nie brały pod uwagę skośnego rozkładu zmiennej zależnej, oraz realnego zapotrzebowania na medianę ceny domu. Wypróbujmy zatem algorytmy, które powinny być bardziej odporne na outliery.\n",
    "\n",
    "Na start wypróbujemy Least Absolute Deviations (LAD) regression. Jako że jest to przypadek szczególny regresji kwantylowej, to w Scikit-learn używa się do tego klasy `QuantileRegressor` z podaniem odpowiedniego kwantyla."
   ]
  },
  {
   "cell_type": "code",
   "execution_count": 26,
   "metadata": {
    "execution": {
     "iopub.execute_input": "2025-03-20T19:16:30.822479Z",
     "iopub.status.busy": "2025-03-20T19:16:30.822084Z",
     "iopub.status.idle": "2025-03-20T19:16:38.031107Z",
     "shell.execute_reply": "2025-03-20T19:16:38.030671Z",
     "shell.execute_reply.started": "2025-03-20T19:16:30.822445Z"
    }
   },
   "outputs": [
    {
     "name": "stdout",
     "output_type": "stream",
     "text": [
      "Train RMSE 80520.69, MAE: 55705.73\n",
      "Test  RMSE 80920.80, MAE: 55734.18\n"
     ]
    }
   ],
   "source": [
    "from sklearn.linear_model import QuantileRegressor\n",
    "\n",
    "reg_lad = QuantileRegressor(quantile=0.5)\n",
    "reg_lad.fit(X_train, y_train)\n",
    "\n",
    "y_pred_train = reg_lad.predict(X_train)\n",
    "y_pred_test = reg_lad.predict(X_test)\n",
    "evaluate_model(y_train, y_test, y_pred_train, y_pred_test)"
   ]
  },
  {
   "cell_type": "markdown",
   "metadata": {},
   "source": [
    "Błąd jest wręcz tragiczny! W takich przypadkach zawsze na start trzeba się przyjrzeć predykcjom."
   ]
  },
  {
   "cell_type": "code",
   "execution_count": 27,
   "metadata": {
    "execution": {
     "iopub.execute_input": "2025-03-20T19:16:38.604398Z",
     "iopub.status.busy": "2025-03-20T19:16:38.603937Z",
     "iopub.status.idle": "2025-03-20T19:16:38.611811Z",
     "shell.execute_reply": "2025-03-20T19:16:38.610948Z",
     "shell.execute_reply.started": "2025-03-20T19:16:38.604364Z"
    }
   },
   "outputs": [
    {
     "data": {
      "text/plain": [
       "array([11.99535779, 11.99535779, 11.99535779, 11.99535779, 11.99535779,\n",
       "       11.99535779, 11.99535779, 11.99535779, 11.99535779, 11.99535779,\n",
       "       11.99535779, 11.99535779, 11.99535779, 11.99535779, 11.99535779,\n",
       "       11.99535779, 11.99535779, 11.99535779, 11.99535779, 11.99535779,\n",
       "       11.99535779, 11.99535779, 11.99535779, 11.99535779, 11.99535779,\n",
       "       11.99535779, 11.99535779, 11.99535779, 11.99535779, 11.99535779])"
      ]
     },
     "execution_count": 27,
     "metadata": {},
     "output_type": "execute_result"
    }
   ],
   "source": [
    "y_pred_test[:30]"
   ]
  },
  {
   "cell_type": "markdown",
   "metadata": {},
   "source": [
    "Predykcje stałe - nic dziwnego, że błąd jest duży. Scikit-learn domyślnie stosuje lekką regularyzację dla wielu modeli, ale wartość ta może być zbyt duża.\n",
    "\n",
    "**Zadanie 8 (1 punkt)**\n",
    "\n",
    "Dokonaj tuningu siły regularyzacji dla LAD regression, sprawdzając 100 wartości z zakresu od 0 do `1e-3`. Wybierz model o najlepszym MAE z pomocą 5-fold CV. Zmierz czas tuningu, wypisz znalezione hiperparametry oraz sprawdź jakość finalnego modelu.\n",
    "\n",
    "Skomentuj różnicę czasową i jakościową względem modeli ridge i LASSO. Czy w tym przypadku warto wykorzystać regresję LAD?\n",
    "\n",
    "Przyda się `GridSearchCV` oraz parametr `n_jobs`."
   ]
  },
  {
   "cell_type": "code",
   "execution_count": 29,
   "metadata": {
    "execution": {
     "iopub.execute_input": "2025-03-20T19:33:26.695173Z",
     "iopub.status.busy": "2025-03-20T19:33:26.694575Z",
     "iopub.status.idle": "2025-03-20T19:47:46.896523Z",
     "shell.execute_reply": "2025-03-20T19:47:46.895858Z",
     "shell.execute_reply.started": "2025-03-20T19:33:26.695128Z"
    },
    "scrolled": true
   },
   "outputs": [
    {
     "name": "stdout",
     "output_type": "stream",
     "text": [
      "860.1967675685883\n"
     ]
    }
   ],
   "source": [
    "from sklearn.model_selection import GridSearchCV\n",
    "from time import time\n",
    "\n",
    "param_grid = {\n",
    "    \"alpha\": np.linspace(0, 1e-3, 100)\n",
    "}\n",
    "\n",
    "start = time()\n",
    "grid_search = GridSearchCV(estimator=reg_lad, param_grid=param_grid, n_jobs=-1, cv=5, scoring=\"neg_mean_absolute_error\")\n",
    "grid_search.fit(X_train, y_train)\n",
    "print(time() - start)"
   ]
  },
  {
   "cell_type": "code",
   "execution_count": 30,
   "metadata": {
    "execution": {
     "iopub.execute_input": "2025-03-20T19:47:46.898092Z",
     "iopub.status.busy": "2025-03-20T19:47:46.897674Z",
     "iopub.status.idle": "2025-03-20T19:47:46.908872Z",
     "shell.execute_reply": "2025-03-20T19:47:46.908253Z",
     "shell.execute_reply.started": "2025-03-20T19:47:46.898061Z"
    }
   },
   "outputs": [
    {
     "name": "stdout",
     "output_type": "stream",
     "text": [
      "Train RMSE 20470.78, MAE: 13506.97\n",
      "Test  RMSE 20054.64, MAE: 14167.73\n"
     ]
    }
   ],
   "source": [
    "y_pred_train = grid_search.predict(X_train)\n",
    "y_pred_test = grid_search.predict(X_test)\n",
    "evaluate_model(y_train, y_test, y_pred_train, y_pred_test)"
   ]
  },
  {
   "cell_type": "markdown",
   "metadata": {},
   "source": [
    "Nie warto było tyle czekać, prawie żadna poprawa"
   ]
  },
  {
   "cell_type": "markdown",
   "metadata": {},
   "source": [
    "Zamiast używać regresji LAD, opartej o programowanie liniowe, można też wykorzystać Huber regression. Jest ono mało czuła zarówno na $\\epsilon$ (punkt przejścia z MSE do MAE), jak i $\\alpha$ (siłę regularyzacji L2), więc często nie wymaga tuningu hiperparametrów.\n",
    "\n",
    "**Zadanie 9 (0.5 punktu)**\n",
    "\n",
    "Wytrenuj model Huber regression. Sprawdź jakość modelu. Skomentuj różnicę czasową i jakościową względem LAD regression (tutaj oczywiście bez tuningu). Z którego modelu skorzystałbyś w praktyce?\n",
    "\n",
    "Domyślna liczba iteracji solwera, 100, jest zbyt mała dla naszej liczby cech, i będą z tego wynikać ostrzeżenia o braku zbieżności, więc zwiększ ją do 2000."
   ]
  },
  {
   "cell_type": "code",
   "execution_count": 31,
   "metadata": {
    "execution": {
     "iopub.execute_input": "2025-03-20T19:53:13.080283Z",
     "iopub.status.busy": "2025-03-20T19:53:13.079321Z",
     "iopub.status.idle": "2025-03-20T19:53:13.842018Z",
     "shell.execute_reply": "2025-03-20T19:53:13.837245Z",
     "shell.execute_reply.started": "2025-03-20T19:53:13.080224Z"
    }
   },
   "outputs": [
    {
     "data": {
      "text/html": [
       "<style>#sk-container-id-1 {\n",
       "  /* Definition of color scheme common for light and dark mode */\n",
       "  --sklearn-color-text: #000;\n",
       "  --sklearn-color-text-muted: #666;\n",
       "  --sklearn-color-line: gray;\n",
       "  /* Definition of color scheme for unfitted estimators */\n",
       "  --sklearn-color-unfitted-level-0: #fff5e6;\n",
       "  --sklearn-color-unfitted-level-1: #f6e4d2;\n",
       "  --sklearn-color-unfitted-level-2: #ffe0b3;\n",
       "  --sklearn-color-unfitted-level-3: chocolate;\n",
       "  /* Definition of color scheme for fitted estimators */\n",
       "  --sklearn-color-fitted-level-0: #f0f8ff;\n",
       "  --sklearn-color-fitted-level-1: #d4ebff;\n",
       "  --sklearn-color-fitted-level-2: #b3dbfd;\n",
       "  --sklearn-color-fitted-level-3: cornflowerblue;\n",
       "\n",
       "  /* Specific color for light theme */\n",
       "  --sklearn-color-text-on-default-background: var(--sg-text-color, var(--theme-code-foreground, var(--jp-content-font-color1, black)));\n",
       "  --sklearn-color-background: var(--sg-background-color, var(--theme-background, var(--jp-layout-color0, white)));\n",
       "  --sklearn-color-border-box: var(--sg-text-color, var(--theme-code-foreground, var(--jp-content-font-color1, black)));\n",
       "  --sklearn-color-icon: #696969;\n",
       "\n",
       "  @media (prefers-color-scheme: dark) {\n",
       "    /* Redefinition of color scheme for dark theme */\n",
       "    --sklearn-color-text-on-default-background: var(--sg-text-color, var(--theme-code-foreground, var(--jp-content-font-color1, white)));\n",
       "    --sklearn-color-background: var(--sg-background-color, var(--theme-background, var(--jp-layout-color0, #111)));\n",
       "    --sklearn-color-border-box: var(--sg-text-color, var(--theme-code-foreground, var(--jp-content-font-color1, white)));\n",
       "    --sklearn-color-icon: #878787;\n",
       "  }\n",
       "}\n",
       "\n",
       "#sk-container-id-1 {\n",
       "  color: var(--sklearn-color-text);\n",
       "}\n",
       "\n",
       "#sk-container-id-1 pre {\n",
       "  padding: 0;\n",
       "}\n",
       "\n",
       "#sk-container-id-1 input.sk-hidden--visually {\n",
       "  border: 0;\n",
       "  clip: rect(1px 1px 1px 1px);\n",
       "  clip: rect(1px, 1px, 1px, 1px);\n",
       "  height: 1px;\n",
       "  margin: -1px;\n",
       "  overflow: hidden;\n",
       "  padding: 0;\n",
       "  position: absolute;\n",
       "  width: 1px;\n",
       "}\n",
       "\n",
       "#sk-container-id-1 div.sk-dashed-wrapped {\n",
       "  border: 1px dashed var(--sklearn-color-line);\n",
       "  margin: 0 0.4em 0.5em 0.4em;\n",
       "  box-sizing: border-box;\n",
       "  padding-bottom: 0.4em;\n",
       "  background-color: var(--sklearn-color-background);\n",
       "}\n",
       "\n",
       "#sk-container-id-1 div.sk-container {\n",
       "  /* jupyter's `normalize.less` sets `[hidden] { display: none; }`\n",
       "     but bootstrap.min.css set `[hidden] { display: none !important; }`\n",
       "     so we also need the `!important` here to be able to override the\n",
       "     default hidden behavior on the sphinx rendered scikit-learn.org.\n",
       "     See: https://github.com/scikit-learn/scikit-learn/issues/21755 */\n",
       "  display: inline-block !important;\n",
       "  position: relative;\n",
       "}\n",
       "\n",
       "#sk-container-id-1 div.sk-text-repr-fallback {\n",
       "  display: none;\n",
       "}\n",
       "\n",
       "div.sk-parallel-item,\n",
       "div.sk-serial,\n",
       "div.sk-item {\n",
       "  /* draw centered vertical line to link estimators */\n",
       "  background-image: linear-gradient(var(--sklearn-color-text-on-default-background), var(--sklearn-color-text-on-default-background));\n",
       "  background-size: 2px 100%;\n",
       "  background-repeat: no-repeat;\n",
       "  background-position: center center;\n",
       "}\n",
       "\n",
       "/* Parallel-specific style estimator block */\n",
       "\n",
       "#sk-container-id-1 div.sk-parallel-item::after {\n",
       "  content: \"\";\n",
       "  width: 100%;\n",
       "  border-bottom: 2px solid var(--sklearn-color-text-on-default-background);\n",
       "  flex-grow: 1;\n",
       "}\n",
       "\n",
       "#sk-container-id-1 div.sk-parallel {\n",
       "  display: flex;\n",
       "  align-items: stretch;\n",
       "  justify-content: center;\n",
       "  background-color: var(--sklearn-color-background);\n",
       "  position: relative;\n",
       "}\n",
       "\n",
       "#sk-container-id-1 div.sk-parallel-item {\n",
       "  display: flex;\n",
       "  flex-direction: column;\n",
       "}\n",
       "\n",
       "#sk-container-id-1 div.sk-parallel-item:first-child::after {\n",
       "  align-self: flex-end;\n",
       "  width: 50%;\n",
       "}\n",
       "\n",
       "#sk-container-id-1 div.sk-parallel-item:last-child::after {\n",
       "  align-self: flex-start;\n",
       "  width: 50%;\n",
       "}\n",
       "\n",
       "#sk-container-id-1 div.sk-parallel-item:only-child::after {\n",
       "  width: 0;\n",
       "}\n",
       "\n",
       "/* Serial-specific style estimator block */\n",
       "\n",
       "#sk-container-id-1 div.sk-serial {\n",
       "  display: flex;\n",
       "  flex-direction: column;\n",
       "  align-items: center;\n",
       "  background-color: var(--sklearn-color-background);\n",
       "  padding-right: 1em;\n",
       "  padding-left: 1em;\n",
       "}\n",
       "\n",
       "\n",
       "/* Toggleable style: style used for estimator/Pipeline/ColumnTransformer box that is\n",
       "clickable and can be expanded/collapsed.\n",
       "- Pipeline and ColumnTransformer use this feature and define the default style\n",
       "- Estimators will overwrite some part of the style using the `sk-estimator` class\n",
       "*/\n",
       "\n",
       "/* Pipeline and ColumnTransformer style (default) */\n",
       "\n",
       "#sk-container-id-1 div.sk-toggleable {\n",
       "  /* Default theme specific background. It is overwritten whether we have a\n",
       "  specific estimator or a Pipeline/ColumnTransformer */\n",
       "  background-color: var(--sklearn-color-background);\n",
       "}\n",
       "\n",
       "/* Toggleable label */\n",
       "#sk-container-id-1 label.sk-toggleable__label {\n",
       "  cursor: pointer;\n",
       "  display: flex;\n",
       "  width: 100%;\n",
       "  margin-bottom: 0;\n",
       "  padding: 0.5em;\n",
       "  box-sizing: border-box;\n",
       "  text-align: center;\n",
       "  align-items: start;\n",
       "  justify-content: space-between;\n",
       "  gap: 0.5em;\n",
       "}\n",
       "\n",
       "#sk-container-id-1 label.sk-toggleable__label .caption {\n",
       "  font-size: 0.6rem;\n",
       "  font-weight: lighter;\n",
       "  color: var(--sklearn-color-text-muted);\n",
       "}\n",
       "\n",
       "#sk-container-id-1 label.sk-toggleable__label-arrow:before {\n",
       "  /* Arrow on the left of the label */\n",
       "  content: \"▸\";\n",
       "  float: left;\n",
       "  margin-right: 0.25em;\n",
       "  color: var(--sklearn-color-icon);\n",
       "}\n",
       "\n",
       "#sk-container-id-1 label.sk-toggleable__label-arrow:hover:before {\n",
       "  color: var(--sklearn-color-text);\n",
       "}\n",
       "\n",
       "/* Toggleable content - dropdown */\n",
       "\n",
       "#sk-container-id-1 div.sk-toggleable__content {\n",
       "  max-height: 0;\n",
       "  max-width: 0;\n",
       "  overflow: hidden;\n",
       "  text-align: left;\n",
       "  /* unfitted */\n",
       "  background-color: var(--sklearn-color-unfitted-level-0);\n",
       "}\n",
       "\n",
       "#sk-container-id-1 div.sk-toggleable__content.fitted {\n",
       "  /* fitted */\n",
       "  background-color: var(--sklearn-color-fitted-level-0);\n",
       "}\n",
       "\n",
       "#sk-container-id-1 div.sk-toggleable__content pre {\n",
       "  margin: 0.2em;\n",
       "  border-radius: 0.25em;\n",
       "  color: var(--sklearn-color-text);\n",
       "  /* unfitted */\n",
       "  background-color: var(--sklearn-color-unfitted-level-0);\n",
       "}\n",
       "\n",
       "#sk-container-id-1 div.sk-toggleable__content.fitted pre {\n",
       "  /* unfitted */\n",
       "  background-color: var(--sklearn-color-fitted-level-0);\n",
       "}\n",
       "\n",
       "#sk-container-id-1 input.sk-toggleable__control:checked~div.sk-toggleable__content {\n",
       "  /* Expand drop-down */\n",
       "  max-height: 200px;\n",
       "  max-width: 100%;\n",
       "  overflow: auto;\n",
       "}\n",
       "\n",
       "#sk-container-id-1 input.sk-toggleable__control:checked~label.sk-toggleable__label-arrow:before {\n",
       "  content: \"▾\";\n",
       "}\n",
       "\n",
       "/* Pipeline/ColumnTransformer-specific style */\n",
       "\n",
       "#sk-container-id-1 div.sk-label input.sk-toggleable__control:checked~label.sk-toggleable__label {\n",
       "  color: var(--sklearn-color-text);\n",
       "  background-color: var(--sklearn-color-unfitted-level-2);\n",
       "}\n",
       "\n",
       "#sk-container-id-1 div.sk-label.fitted input.sk-toggleable__control:checked~label.sk-toggleable__label {\n",
       "  background-color: var(--sklearn-color-fitted-level-2);\n",
       "}\n",
       "\n",
       "/* Estimator-specific style */\n",
       "\n",
       "/* Colorize estimator box */\n",
       "#sk-container-id-1 div.sk-estimator input.sk-toggleable__control:checked~label.sk-toggleable__label {\n",
       "  /* unfitted */\n",
       "  background-color: var(--sklearn-color-unfitted-level-2);\n",
       "}\n",
       "\n",
       "#sk-container-id-1 div.sk-estimator.fitted input.sk-toggleable__control:checked~label.sk-toggleable__label {\n",
       "  /* fitted */\n",
       "  background-color: var(--sklearn-color-fitted-level-2);\n",
       "}\n",
       "\n",
       "#sk-container-id-1 div.sk-label label.sk-toggleable__label,\n",
       "#sk-container-id-1 div.sk-label label {\n",
       "  /* The background is the default theme color */\n",
       "  color: var(--sklearn-color-text-on-default-background);\n",
       "}\n",
       "\n",
       "/* On hover, darken the color of the background */\n",
       "#sk-container-id-1 div.sk-label:hover label.sk-toggleable__label {\n",
       "  color: var(--sklearn-color-text);\n",
       "  background-color: var(--sklearn-color-unfitted-level-2);\n",
       "}\n",
       "\n",
       "/* Label box, darken color on hover, fitted */\n",
       "#sk-container-id-1 div.sk-label.fitted:hover label.sk-toggleable__label.fitted {\n",
       "  color: var(--sklearn-color-text);\n",
       "  background-color: var(--sklearn-color-fitted-level-2);\n",
       "}\n",
       "\n",
       "/* Estimator label */\n",
       "\n",
       "#sk-container-id-1 div.sk-label label {\n",
       "  font-family: monospace;\n",
       "  font-weight: bold;\n",
       "  display: inline-block;\n",
       "  line-height: 1.2em;\n",
       "}\n",
       "\n",
       "#sk-container-id-1 div.sk-label-container {\n",
       "  text-align: center;\n",
       "}\n",
       "\n",
       "/* Estimator-specific */\n",
       "#sk-container-id-1 div.sk-estimator {\n",
       "  font-family: monospace;\n",
       "  border: 1px dotted var(--sklearn-color-border-box);\n",
       "  border-radius: 0.25em;\n",
       "  box-sizing: border-box;\n",
       "  margin-bottom: 0.5em;\n",
       "  /* unfitted */\n",
       "  background-color: var(--sklearn-color-unfitted-level-0);\n",
       "}\n",
       "\n",
       "#sk-container-id-1 div.sk-estimator.fitted {\n",
       "  /* fitted */\n",
       "  background-color: var(--sklearn-color-fitted-level-0);\n",
       "}\n",
       "\n",
       "/* on hover */\n",
       "#sk-container-id-1 div.sk-estimator:hover {\n",
       "  /* unfitted */\n",
       "  background-color: var(--sklearn-color-unfitted-level-2);\n",
       "}\n",
       "\n",
       "#sk-container-id-1 div.sk-estimator.fitted:hover {\n",
       "  /* fitted */\n",
       "  background-color: var(--sklearn-color-fitted-level-2);\n",
       "}\n",
       "\n",
       "/* Specification for estimator info (e.g. \"i\" and \"?\") */\n",
       "\n",
       "/* Common style for \"i\" and \"?\" */\n",
       "\n",
       ".sk-estimator-doc-link,\n",
       "a:link.sk-estimator-doc-link,\n",
       "a:visited.sk-estimator-doc-link {\n",
       "  float: right;\n",
       "  font-size: smaller;\n",
       "  line-height: 1em;\n",
       "  font-family: monospace;\n",
       "  background-color: var(--sklearn-color-background);\n",
       "  border-radius: 1em;\n",
       "  height: 1em;\n",
       "  width: 1em;\n",
       "  text-decoration: none !important;\n",
       "  margin-left: 0.5em;\n",
       "  text-align: center;\n",
       "  /* unfitted */\n",
       "  border: var(--sklearn-color-unfitted-level-1) 1pt solid;\n",
       "  color: var(--sklearn-color-unfitted-level-1);\n",
       "}\n",
       "\n",
       ".sk-estimator-doc-link.fitted,\n",
       "a:link.sk-estimator-doc-link.fitted,\n",
       "a:visited.sk-estimator-doc-link.fitted {\n",
       "  /* fitted */\n",
       "  border: var(--sklearn-color-fitted-level-1) 1pt solid;\n",
       "  color: var(--sklearn-color-fitted-level-1);\n",
       "}\n",
       "\n",
       "/* On hover */\n",
       "div.sk-estimator:hover .sk-estimator-doc-link:hover,\n",
       ".sk-estimator-doc-link:hover,\n",
       "div.sk-label-container:hover .sk-estimator-doc-link:hover,\n",
       ".sk-estimator-doc-link:hover {\n",
       "  /* unfitted */\n",
       "  background-color: var(--sklearn-color-unfitted-level-3);\n",
       "  color: var(--sklearn-color-background);\n",
       "  text-decoration: none;\n",
       "}\n",
       "\n",
       "div.sk-estimator.fitted:hover .sk-estimator-doc-link.fitted:hover,\n",
       ".sk-estimator-doc-link.fitted:hover,\n",
       "div.sk-label-container:hover .sk-estimator-doc-link.fitted:hover,\n",
       ".sk-estimator-doc-link.fitted:hover {\n",
       "  /* fitted */\n",
       "  background-color: var(--sklearn-color-fitted-level-3);\n",
       "  color: var(--sklearn-color-background);\n",
       "  text-decoration: none;\n",
       "}\n",
       "\n",
       "/* Span, style for the box shown on hovering the info icon */\n",
       ".sk-estimator-doc-link span {\n",
       "  display: none;\n",
       "  z-index: 9999;\n",
       "  position: relative;\n",
       "  font-weight: normal;\n",
       "  right: .2ex;\n",
       "  padding: .5ex;\n",
       "  margin: .5ex;\n",
       "  width: min-content;\n",
       "  min-width: 20ex;\n",
       "  max-width: 50ex;\n",
       "  color: var(--sklearn-color-text);\n",
       "  box-shadow: 2pt 2pt 4pt #999;\n",
       "  /* unfitted */\n",
       "  background: var(--sklearn-color-unfitted-level-0);\n",
       "  border: .5pt solid var(--sklearn-color-unfitted-level-3);\n",
       "}\n",
       "\n",
       ".sk-estimator-doc-link.fitted span {\n",
       "  /* fitted */\n",
       "  background: var(--sklearn-color-fitted-level-0);\n",
       "  border: var(--sklearn-color-fitted-level-3);\n",
       "}\n",
       "\n",
       ".sk-estimator-doc-link:hover span {\n",
       "  display: block;\n",
       "}\n",
       "\n",
       "/* \"?\"-specific style due to the `<a>` HTML tag */\n",
       "\n",
       "#sk-container-id-1 a.estimator_doc_link {\n",
       "  float: right;\n",
       "  font-size: 1rem;\n",
       "  line-height: 1em;\n",
       "  font-family: monospace;\n",
       "  background-color: var(--sklearn-color-background);\n",
       "  border-radius: 1rem;\n",
       "  height: 1rem;\n",
       "  width: 1rem;\n",
       "  text-decoration: none;\n",
       "  /* unfitted */\n",
       "  color: var(--sklearn-color-unfitted-level-1);\n",
       "  border: var(--sklearn-color-unfitted-level-1) 1pt solid;\n",
       "}\n",
       "\n",
       "#sk-container-id-1 a.estimator_doc_link.fitted {\n",
       "  /* fitted */\n",
       "  border: var(--sklearn-color-fitted-level-1) 1pt solid;\n",
       "  color: var(--sklearn-color-fitted-level-1);\n",
       "}\n",
       "\n",
       "/* On hover */\n",
       "#sk-container-id-1 a.estimator_doc_link:hover {\n",
       "  /* unfitted */\n",
       "  background-color: var(--sklearn-color-unfitted-level-3);\n",
       "  color: var(--sklearn-color-background);\n",
       "  text-decoration: none;\n",
       "}\n",
       "\n",
       "#sk-container-id-1 a.estimator_doc_link.fitted:hover {\n",
       "  /* fitted */\n",
       "  background-color: var(--sklearn-color-fitted-level-3);\n",
       "}\n",
       "</style><div id=\"sk-container-id-1\" class=\"sk-top-container\"><div class=\"sk-text-repr-fallback\"><pre>HuberRegressor(max_iter=2000)</pre><b>In a Jupyter environment, please rerun this cell to show the HTML representation or trust the notebook. <br />On GitHub, the HTML representation is unable to render, please try loading this page with nbviewer.org.</b></div><div class=\"sk-container\" hidden><div class=\"sk-item\"><div class=\"sk-estimator fitted sk-toggleable\"><input class=\"sk-toggleable__control sk-hidden--visually\" id=\"sk-estimator-id-1\" type=\"checkbox\" checked><label for=\"sk-estimator-id-1\" class=\"sk-toggleable__label fitted sk-toggleable__label-arrow\"><div><div>HuberRegressor</div></div><div><a class=\"sk-estimator-doc-link fitted\" rel=\"noreferrer\" target=\"_blank\" href=\"https://scikit-learn.org/1.6/modules/generated/sklearn.linear_model.HuberRegressor.html\">?<span>Documentation for HuberRegressor</span></a><span class=\"sk-estimator-doc-link fitted\">i<span>Fitted</span></span></div></label><div class=\"sk-toggleable__content fitted\"><pre>HuberRegressor(max_iter=2000)</pre></div> </div></div></div></div>"
      ],
      "text/plain": [
       "HuberRegressor(max_iter=2000)"
      ]
     },
     "execution_count": 31,
     "metadata": {},
     "output_type": "execute_result"
    }
   ],
   "source": [
    "from sklearn.linear_model import HuberRegressor\n",
    "\n",
    "huber = HuberRegressor(max_iter=2000)\n",
    "huber.fit(X_train, y_train)"
   ]
  },
  {
   "cell_type": "code",
   "execution_count": 32,
   "metadata": {
    "execution": {
     "iopub.execute_input": "2025-03-20T19:53:13.842918Z",
     "iopub.status.busy": "2025-03-20T19:53:13.842721Z",
     "iopub.status.idle": "2025-03-20T19:53:13.857508Z",
     "shell.execute_reply": "2025-03-20T19:53:13.856993Z",
     "shell.execute_reply.started": "2025-03-20T19:53:13.842899Z"
    }
   },
   "outputs": [
    {
     "name": "stdout",
     "output_type": "stream",
     "text": [
      "Train RMSE 21316.85, MAE: 13622.49\n",
      "Test  RMSE 20000.76, MAE: 13910.23\n"
     ]
    }
   ],
   "source": [
    "y_pred_train = huber.predict(X_train)\n",
    "y_pred_test = huber.predict(X_test)\n",
    "evaluate_model(y_train, y_test, y_pred_train, y_pred_test)"
   ]
  },
  {
   "cell_type": "markdown",
   "metadata": {},
   "source": [
    "Huber daje lepsze MAE"
   ]
  },
  {
   "cell_type": "markdown",
   "metadata": {},
   "source": [
    "## Use case, połączenie w system end-to-end"
   ]
  },
  {
   "cell_type": "markdown",
   "metadata": {},
   "source": [
    "Na rynku działa firma oferująca serwis do sprzedaży nieruchomości. CEO był na prezentacji o AI, zaczął używać ChatGPT i uznał, że też musicie mieć taki potężny ML. Zostałeś zatrudniony jako (pierwszy i jedyny) data scientist, zebrałeś historyczne dane, i nawet wdrożyłeś pierwszy model regresji liniowej do estymacji wartości nieruchomości.\n",
    "\n",
    "Pewnego dnia Product Owner przychodzi do ciebie z listą \"absolutnie krytycznych\" wymagań (propozycja nie do odrzucenia):\n",
    "1. Ciągle coś się sypie na produkcji, bo obecny pipeline do przetwarzania cech jest złożony z wielu kroków, które są copy-paste z twojego Jupyter Notebooka. Trzeba z tego zrobić jeden obiekt, zapisywać i wdrażać end-to-end.\n",
    "2. Nowe domy czasem mają ekstremalne wartości cech, których nie było w zbiorze treningowym, i na tych przypadkach model radzi sobie wystarczająco słabo. Może wystarczyłoby je jakoś przyciąć?\n",
    "3. Obecny model regresji liniowej działa w miarę ok, ale trzeba czegoś lepszego, co dawałoby lepsze MAE, bo większość klientów jest zainteresowana przeciętnie drogimi nieruchomościami.\n",
    "4. Sama przewidywana wartość nieruchomości to za mało, bo każdy wie, że ceny są zróżnicowane. Twoja regresja liniowa podaje tylko warunkową średnią, a zarówno sprzedający, jak i kupujący chcieliby znać sensowne górne i dolne widełki. Product Owner ze swojego doświadczenia sugeruje, że typowo takie wahania różnią się co najwyżej o 15 punktów procentowych w górę i dół od średniej ceny.\n",
    "\n",
    "**Zadanie 10 (4 punkty)**\n",
    "\n",
    "1. Połącz wszystkie wcześniejsze transformery dla zmiennych numerycznych i kategorycznych w jeden duży `ColumnTransformer`. Ma do niego wejść cale `X_train_raw`, a wyjść gotowy output.\n",
    "2. Przycinanie wartości do zakresu znanego ze zbioru treningowego nazywa się czasem **winsoryzacją (winsorization)**. Dodaj taki etap po skalowaniu min-max, a przed selekcją według korelacji. Przydatny będzie tutaj Feature-engine.\n",
    "3. Na podstawie wcześniejszych eksperymentów wybierz model do przewidywania własności domów. Wybór uzasadnij w komentarzu. W razie potrzeby dokonaj tuningu hiperparametrów. Zmierz jakość modelu.\n",
    "4. Wybierz i wytrenuj odpowiednie modele do regresji, żeby dostać estymację 35% i 65% ceny, w dodatku do przeciętnej ceny (estymowanej przez model z poprzedniego punktu). Dokonaj w razie potrzeby tuningu hiperparametrów. Metryką jakości może być tutaj [D^2 pinball score](d2_pinball_score), który ma wygodny zakres wartości $[0, 1]$ (dla dobrych modeli, im bliżej 1, tym lepiej). Podaj jakość finalnych modeli.\n",
    "5. Zapisz transformer do preprocessingu oraz estymatory do regresji do plików [z pomocą Jobliba](https://scikit-learn.org/stable/model_persistence.html): `ames_transformer.joblib`, `price_estimator.joblib`, `low_price_estimator.joblib`, `high_price_estimator.joblib`.\n",
    "\n",
    "Poniżej przygotowano funkcję testową, która ładuje transformer i estymatory, oraz oblicza predykcje dla trzech przykładowych domów ze zbioru testowego (taniego, przeciętnego i drogiego).\n",
    "\n",
    "Skomentuj - czy twoim zdaniem finalne modele, podające przeciętną wartość i widełki, są subiektywnie dobrej jakości?"
   ]
  },
  {
   "cell_type": "code",
   "execution_count": 33,
   "metadata": {
    "execution": {
     "iopub.execute_input": "2025-03-20T19:57:18.404466Z",
     "iopub.status.busy": "2025-03-20T19:57:18.404229Z",
     "iopub.status.idle": "2025-03-20T19:57:19.315833Z",
     "shell.execute_reply": "2025-03-20T19:57:19.315364Z",
     "shell.execute_reply.started": "2025-03-20T19:57:18.404449Z"
    }
   },
   "outputs": [
    {
     "name": "stdout",
     "output_type": "stream",
     "text": [
      "Train RMSE 19997.18, MAE: 13292.09\n",
      "Test  RMSE 19559.37, MAE: 13738.69\n"
     ]
    }
   ],
   "source": [
    "from feature_engine.outliers import Winsorizer\n",
    "\n",
    "num_pipe = Pipeline(\n",
    "    [(\"imputer\", SimpleImputer(strategy=\"median\")),\n",
    "     (\"scaler\", MinMaxScaler()),\n",
    "     (\"winsorizer\", Winsorizer()),\n",
    "     (\"corr selector\", SmartCorrelatedSelection())]\n",
    ")\n",
    "\n",
    "full_transformer = ColumnTransformer([(\"num\", num_pipe, numerical_features),\n",
    "                                      (\"cat\", cat_pipe, categorical_features)])\n",
    "X_train = full_transformer.fit_transform(X_train_raw, y_train)\n",
    "X_test = full_transformer.transform(X_test_raw)\n",
    "\n",
    "hub = HuberRegressor(max_iter=2000)\n",
    "hub.fit(X_train, y_train)\n",
    "y_pred_train = hub.predict(X_train)\n",
    "y_pred_test = hub.predict(X_test)\n",
    "evaluate_model(y_train, y_test, y_pred_train, y_pred_test)"
   ]
  },
  {
   "cell_type": "code",
   "execution_count": 38,
   "metadata": {
    "execution": {
     "iopub.execute_input": "2025-03-20T20:51:25.220591Z",
     "iopub.status.busy": "2025-03-20T20:51:25.220053Z",
     "iopub.status.idle": "2025-03-20T20:54:38.358152Z",
     "shell.execute_reply": "2025-03-20T20:54:38.357656Z",
     "shell.execute_reply.started": "2025-03-20T20:51:25.220548Z"
    }
   },
   "outputs": [
    {
     "name": "stdout",
     "output_type": "stream",
     "text": [
      "Train RMSE 78679.12, MAE: 59748.07\n",
      "Test  RMSE 79735.30, MAE: 61312.06\n"
     ]
    }
   ],
   "source": [
    "from sklearn.metrics import make_scorer, d2_pinball_score\n",
    "\n",
    "quant = QuantileRegressor(quantile=0.65)\n",
    "quant.fit(X_train, y_train)\n",
    "param_grid['alpha'] = np.linspace(0, 1e-3, 20)\n",
    "quant_grid = GridSearchCV(estimator=quant, scoring=make_scorer(d2_pinball_score, alpha=0.65), cv=5, n_jobs=-1, param_grid=param_grid)\n",
    "quant_grid.fit(X_train, y_train)"
   ]
  },
  {
   "cell_type": "code",
   "execution_count": 39,
   "metadata": {
    "execution": {
     "iopub.execute_input": "2025-03-20T21:00:43.401764Z",
     "iopub.status.busy": "2025-03-20T21:00:43.401521Z",
     "iopub.status.idle": "2025-03-20T21:00:43.411013Z",
     "shell.execute_reply": "2025-03-20T21:00:43.410587Z",
     "shell.execute_reply.started": "2025-03-20T21:00:43.401730Z"
    }
   },
   "outputs": [
    {
     "name": "stdout",
     "output_type": "stream",
     "text": [
      "Train RMSE 20980.05, MAE: 14212.68\n",
      "Test  RMSE 20355.41, MAE: 14534.48\n"
     ]
    }
   ],
   "source": [
    "y_pred_train = quant_grid.predict(X_train)\n",
    "y_pred_test = quant_grid.predict(X_test)\n",
    "evaluate_model(y_train, y_test, y_pred_train, y_pred_test)"
   ]
  },
  {
   "cell_type": "code",
   "execution_count": 40,
   "metadata": {
    "execution": {
     "iopub.execute_input": "2025-03-20T21:05:32.710976Z",
     "iopub.status.busy": "2025-03-20T21:05:32.710292Z",
     "iopub.status.idle": "2025-03-20T21:08:46.983646Z",
     "shell.execute_reply": "2025-03-20T21:08:46.982918Z",
     "shell.execute_reply.started": "2025-03-20T21:05:32.710919Z"
    }
   },
   "outputs": [
    {
     "name": "stdout",
     "output_type": "stream",
     "text": [
      "Train RMSE 21500.73, MAE: 14143.12\n",
      "Test  RMSE 21591.73, MAE: 14954.78\n"
     ]
    }
   ],
   "source": [
    "low_quant = QuantileRegressor(quantile=0.35)\n",
    "low_quant.fit(X_train, y_train)\n",
    "low_quant_grid = GridSearchCV(estimator=low_quant, scoring=make_scorer(d2_pinball_score, alpha=0.35), cv=5, n_jobs=-1, param_grid=param_grid)\n",
    "low_quant_grid.fit(X_train, y_train)\n",
    "y_pred_train = low_quant_grid.predict(X_train)\n",
    "y_pred_test = low_quant_grid.predict(X_test)\n",
    "evaluate_model(y_train, y_test, y_pred_train, y_pred_test)"
   ]
  },
  {
   "cell_type": "code",
   "execution_count": 41,
   "metadata": {
    "execution": {
     "iopub.execute_input": "2025-03-20T21:16:19.826586Z",
     "iopub.status.busy": "2025-03-20T21:16:19.825918Z",
     "iopub.status.idle": "2025-03-20T21:16:19.998928Z",
     "shell.execute_reply": "2025-03-20T21:16:19.998479Z",
     "shell.execute_reply.started": "2025-03-20T21:16:19.826523Z"
    }
   },
   "outputs": [
    {
     "name": "stdout",
     "output_type": "stream",
     "text": [
      "Cheap house\n",
      "True price: 127999$\n",
      "Estimated price: 131751\n",
      "Price brackets: 127013 - 135636\n",
      "Features:\n"
     ]
    },
    {
     "data": {
      "text/html": [
       "<div>\n",
       "<style scoped>\n",
       "    .dataframe tbody tr th:only-of-type {\n",
       "        vertical-align: middle;\n",
       "    }\n",
       "\n",
       "    .dataframe tbody tr th {\n",
       "        vertical-align: top;\n",
       "    }\n",
       "\n",
       "    .dataframe thead th {\n",
       "        text-align: right;\n",
       "    }\n",
       "</style>\n",
       "<table border=\"1\" class=\"dataframe\">\n",
       "  <thead>\n",
       "    <tr style=\"text-align: right;\">\n",
       "      <th></th>\n",
       "      <th>MSSubClass</th>\n",
       "      <th>MSZoning</th>\n",
       "      <th>LotFrontage</th>\n",
       "      <th>LotArea</th>\n",
       "      <th>Street</th>\n",
       "      <th>Alley</th>\n",
       "      <th>LotShape</th>\n",
       "      <th>LandContour</th>\n",
       "      <th>Utilities</th>\n",
       "      <th>LotConfig</th>\n",
       "      <th>LandSlope</th>\n",
       "      <th>Neighborhood</th>\n",
       "      <th>Condition1</th>\n",
       "      <th>Condition2</th>\n",
       "      <th>BldgType</th>\n",
       "      <th>HouseStyle</th>\n",
       "      <th>OverallQual</th>\n",
       "      <th>OverallCond</th>\n",
       "      <th>YearBuilt</th>\n",
       "      <th>YearRemodAdd</th>\n",
       "      <th>RoofStyle</th>\n",
       "      <th>RoofMatl</th>\n",
       "      <th>Exterior1st</th>\n",
       "      <th>Exterior2nd</th>\n",
       "      <th>MasVnrType</th>\n",
       "      <th>MasVnrArea</th>\n",
       "      <th>ExterQual</th>\n",
       "      <th>ExterCond</th>\n",
       "      <th>Foundation</th>\n",
       "      <th>BsmtQual</th>\n",
       "      <th>BsmtCond</th>\n",
       "      <th>BsmtExposure</th>\n",
       "      <th>BsmtFinType1</th>\n",
       "      <th>BsmtFinSF1</th>\n",
       "      <th>BsmtFinType2</th>\n",
       "      <th>BsmtFinSF2</th>\n",
       "      <th>BsmtUnfSF</th>\n",
       "      <th>TotalBsmtSF</th>\n",
       "      <th>Heating</th>\n",
       "      <th>HeatingQC</th>\n",
       "      <th>CentralAir</th>\n",
       "      <th>Electrical</th>\n",
       "      <th>X1stFlrSF</th>\n",
       "      <th>X2ndFlrSF</th>\n",
       "      <th>LowQualFinSF</th>\n",
       "      <th>GrLivArea</th>\n",
       "      <th>BsmtFullBath</th>\n",
       "      <th>BsmtHalfBath</th>\n",
       "      <th>FullBath</th>\n",
       "      <th>HalfBath</th>\n",
       "      <th>BedroomAbvGr</th>\n",
       "      <th>KitchenAbvGr</th>\n",
       "      <th>KitchenQual</th>\n",
       "      <th>TotRmsAbvGrd</th>\n",
       "      <th>Functional</th>\n",
       "      <th>Fireplaces</th>\n",
       "      <th>FireplaceQu</th>\n",
       "      <th>GarageType</th>\n",
       "      <th>GarageYrBlt</th>\n",
       "      <th>GarageFinish</th>\n",
       "      <th>GarageCars</th>\n",
       "      <th>GarageArea</th>\n",
       "      <th>GarageQual</th>\n",
       "      <th>GarageCond</th>\n",
       "      <th>PavedDrive</th>\n",
       "      <th>WoodDeckSF</th>\n",
       "      <th>OpenPorchSF</th>\n",
       "      <th>EnclosedPorch</th>\n",
       "      <th>X3SsnPorch</th>\n",
       "      <th>ScreenPorch</th>\n",
       "      <th>PoolArea</th>\n",
       "      <th>PoolQC</th>\n",
       "      <th>Fence</th>\n",
       "      <th>MiscFeature</th>\n",
       "      <th>MiscVal</th>\n",
       "      <th>MoSold</th>\n",
       "      <th>YrSold</th>\n",
       "      <th>SaleType</th>\n",
       "      <th>SaleCondition</th>\n",
       "    </tr>\n",
       "  </thead>\n",
       "  <tbody>\n",
       "    <tr>\n",
       "      <th>195</th>\n",
       "      <td>SC50</td>\n",
       "      <td>RM</td>\n",
       "      <td>50.0</td>\n",
       "      <td>6000</td>\n",
       "      <td>2</td>\n",
       "      <td>0</td>\n",
       "      <td>4</td>\n",
       "      <td>Lvl</td>\n",
       "      <td>4</td>\n",
       "      <td>Inside</td>\n",
       "      <td>3</td>\n",
       "      <td>BrkSide</td>\n",
       "      <td>Norm</td>\n",
       "      <td>Norm</td>\n",
       "      <td>1Fam</td>\n",
       "      <td>1.5Fin</td>\n",
       "      <td>6</td>\n",
       "      <td>6</td>\n",
       "      <td>1940</td>\n",
       "      <td>1950</td>\n",
       "      <td>Gable</td>\n",
       "      <td>CompShg</td>\n",
       "      <td>MetalSd</td>\n",
       "      <td>MetalSd</td>\n",
       "      <td>None</td>\n",
       "      <td>0.0</td>\n",
       "      <td>3</td>\n",
       "      <td>4</td>\n",
       "      <td>CBlock</td>\n",
       "      <td>3</td>\n",
       "      <td>3</td>\n",
       "      <td>0</td>\n",
       "      <td>2</td>\n",
       "      <td>264.0</td>\n",
       "      <td>1</td>\n",
       "      <td>0.0</td>\n",
       "      <td>308.0</td>\n",
       "      <td>572.0</td>\n",
       "      <td>GasA</td>\n",
       "      <td>5</td>\n",
       "      <td>Y</td>\n",
       "      <td>FuseA</td>\n",
       "      <td>848</td>\n",
       "      <td>348</td>\n",
       "      <td>0</td>\n",
       "      <td>1196</td>\n",
       "      <td>0.0</td>\n",
       "      <td>1.0</td>\n",
       "      <td>1</td>\n",
       "      <td>1</td>\n",
       "      <td>3</td>\n",
       "      <td>1</td>\n",
       "      <td>3</td>\n",
       "      <td>6</td>\n",
       "      <td>8</td>\n",
       "      <td>2</td>\n",
       "      <td>4</td>\n",
       "      <td>Detchd</td>\n",
       "      <td>1973.0</td>\n",
       "      <td>Unf</td>\n",
       "      <td>2.0</td>\n",
       "      <td>576.0</td>\n",
       "      <td>3</td>\n",
       "      <td>3</td>\n",
       "      <td>2</td>\n",
       "      <td>0</td>\n",
       "      <td>0</td>\n",
       "      <td>0</td>\n",
       "      <td>0</td>\n",
       "      <td>0</td>\n",
       "      <td>0</td>\n",
       "      <td>0</td>\n",
       "      <td>No</td>\n",
       "      <td>No</td>\n",
       "      <td>0</td>\n",
       "      <td>Mar</td>\n",
       "      <td>2010</td>\n",
       "      <td>WD</td>\n",
       "      <td>Normal</td>\n",
       "    </tr>\n",
       "  </tbody>\n",
       "</table>\n",
       "</div>"
      ],
      "text/plain": [
       "    MSSubClass MSZoning LotFrontage LotArea Street Alley LotShape LandContour  \\\n",
       "195       SC50       RM        50.0    6000      2     0        4         Lvl   \n",
       "\n",
       "    Utilities LotConfig LandSlope Neighborhood Condition1 Condition2 BldgType  \\\n",
       "195         4    Inside         3      BrkSide       Norm       Norm     1Fam   \n",
       "\n",
       "    HouseStyle OverallQual OverallCond YearBuilt YearRemodAdd RoofStyle  \\\n",
       "195     1.5Fin           6           6      1940         1950     Gable   \n",
       "\n",
       "    RoofMatl Exterior1st Exterior2nd MasVnrType MasVnrArea ExterQual  \\\n",
       "195  CompShg     MetalSd     MetalSd       None        0.0         3   \n",
       "\n",
       "    ExterCond Foundation BsmtQual BsmtCond BsmtExposure BsmtFinType1  \\\n",
       "195         4     CBlock        3        3            0            2   \n",
       "\n",
       "    BsmtFinSF1 BsmtFinType2 BsmtFinSF2 BsmtUnfSF TotalBsmtSF Heating  \\\n",
       "195      264.0            1        0.0     308.0       572.0    GasA   \n",
       "\n",
       "    HeatingQC CentralAir Electrical X1stFlrSF X2ndFlrSF LowQualFinSF  \\\n",
       "195         5          Y      FuseA       848       348            0   \n",
       "\n",
       "    GrLivArea BsmtFullBath BsmtHalfBath FullBath HalfBath BedroomAbvGr  \\\n",
       "195      1196          0.0          1.0        1        1            3   \n",
       "\n",
       "    KitchenAbvGr KitchenQual TotRmsAbvGrd Functional Fireplaces FireplaceQu  \\\n",
       "195            1           3            6          8          2           4   \n",
       "\n",
       "    GarageType GarageYrBlt GarageFinish GarageCars GarageArea GarageQual  \\\n",
       "195     Detchd      1973.0          Unf        2.0      576.0          3   \n",
       "\n",
       "    GarageCond PavedDrive WoodDeckSF OpenPorchSF EnclosedPorch X3SsnPorch  \\\n",
       "195          3          2          0           0             0          0   \n",
       "\n",
       "    ScreenPorch PoolArea PoolQC Fence MiscFeature MiscVal MoSold YrSold  \\\n",
       "195           0        0      0    No          No       0    Mar   2010   \n",
       "\n",
       "    SaleType SaleCondition  \n",
       "195      WD         Normal  "
      ]
     },
     "metadata": {},
     "output_type": "display_data"
    },
    {
     "name": "stdout",
     "output_type": "stream",
     "text": [
      "Average house\n",
      "True price: 157999$\n",
      "Estimated price: 146166\n",
      "Price brackets: 141021 - 149816\n",
      "Features:\n"
     ]
    },
    {
     "data": {
      "text/html": [
       "<div>\n",
       "<style scoped>\n",
       "    .dataframe tbody tr th:only-of-type {\n",
       "        vertical-align: middle;\n",
       "    }\n",
       "\n",
       "    .dataframe tbody tr th {\n",
       "        vertical-align: top;\n",
       "    }\n",
       "\n",
       "    .dataframe thead th {\n",
       "        text-align: right;\n",
       "    }\n",
       "</style>\n",
       "<table border=\"1\" class=\"dataframe\">\n",
       "  <thead>\n",
       "    <tr style=\"text-align: right;\">\n",
       "      <th></th>\n",
       "      <th>MSSubClass</th>\n",
       "      <th>MSZoning</th>\n",
       "      <th>LotFrontage</th>\n",
       "      <th>LotArea</th>\n",
       "      <th>Street</th>\n",
       "      <th>Alley</th>\n",
       "      <th>LotShape</th>\n",
       "      <th>LandContour</th>\n",
       "      <th>Utilities</th>\n",
       "      <th>LotConfig</th>\n",
       "      <th>LandSlope</th>\n",
       "      <th>Neighborhood</th>\n",
       "      <th>Condition1</th>\n",
       "      <th>Condition2</th>\n",
       "      <th>BldgType</th>\n",
       "      <th>HouseStyle</th>\n",
       "      <th>OverallQual</th>\n",
       "      <th>OverallCond</th>\n",
       "      <th>YearBuilt</th>\n",
       "      <th>YearRemodAdd</th>\n",
       "      <th>RoofStyle</th>\n",
       "      <th>RoofMatl</th>\n",
       "      <th>Exterior1st</th>\n",
       "      <th>Exterior2nd</th>\n",
       "      <th>MasVnrType</th>\n",
       "      <th>MasVnrArea</th>\n",
       "      <th>ExterQual</th>\n",
       "      <th>ExterCond</th>\n",
       "      <th>Foundation</th>\n",
       "      <th>BsmtQual</th>\n",
       "      <th>BsmtCond</th>\n",
       "      <th>BsmtExposure</th>\n",
       "      <th>BsmtFinType1</th>\n",
       "      <th>BsmtFinSF1</th>\n",
       "      <th>BsmtFinType2</th>\n",
       "      <th>BsmtFinSF2</th>\n",
       "      <th>BsmtUnfSF</th>\n",
       "      <th>TotalBsmtSF</th>\n",
       "      <th>Heating</th>\n",
       "      <th>HeatingQC</th>\n",
       "      <th>CentralAir</th>\n",
       "      <th>Electrical</th>\n",
       "      <th>X1stFlrSF</th>\n",
       "      <th>X2ndFlrSF</th>\n",
       "      <th>LowQualFinSF</th>\n",
       "      <th>GrLivArea</th>\n",
       "      <th>BsmtFullBath</th>\n",
       "      <th>BsmtHalfBath</th>\n",
       "      <th>FullBath</th>\n",
       "      <th>HalfBath</th>\n",
       "      <th>BedroomAbvGr</th>\n",
       "      <th>KitchenAbvGr</th>\n",
       "      <th>KitchenQual</th>\n",
       "      <th>TotRmsAbvGrd</th>\n",
       "      <th>Functional</th>\n",
       "      <th>Fireplaces</th>\n",
       "      <th>FireplaceQu</th>\n",
       "      <th>GarageType</th>\n",
       "      <th>GarageYrBlt</th>\n",
       "      <th>GarageFinish</th>\n",
       "      <th>GarageCars</th>\n",
       "      <th>GarageArea</th>\n",
       "      <th>GarageQual</th>\n",
       "      <th>GarageCond</th>\n",
       "      <th>PavedDrive</th>\n",
       "      <th>WoodDeckSF</th>\n",
       "      <th>OpenPorchSF</th>\n",
       "      <th>EnclosedPorch</th>\n",
       "      <th>X3SsnPorch</th>\n",
       "      <th>ScreenPorch</th>\n",
       "      <th>PoolArea</th>\n",
       "      <th>PoolQC</th>\n",
       "      <th>Fence</th>\n",
       "      <th>MiscFeature</th>\n",
       "      <th>MiscVal</th>\n",
       "      <th>MoSold</th>\n",
       "      <th>YrSold</th>\n",
       "      <th>SaleType</th>\n",
       "      <th>SaleCondition</th>\n",
       "    </tr>\n",
       "  </thead>\n",
       "  <tbody>\n",
       "    <tr>\n",
       "      <th>2538</th>\n",
       "      <td>SC80</td>\n",
       "      <td>RL</td>\n",
       "      <td>80.0</td>\n",
       "      <td>9600</td>\n",
       "      <td>2</td>\n",
       "      <td>0</td>\n",
       "      <td>4</td>\n",
       "      <td>Lvl</td>\n",
       "      <td>4</td>\n",
       "      <td>Inside</td>\n",
       "      <td>3</td>\n",
       "      <td>NAmes</td>\n",
       "      <td>Norm</td>\n",
       "      <td>Norm</td>\n",
       "      <td>1Fam</td>\n",
       "      <td>SLvl</td>\n",
       "      <td>5</td>\n",
       "      <td>7</td>\n",
       "      <td>1967</td>\n",
       "      <td>1967</td>\n",
       "      <td>Gable</td>\n",
       "      <td>CompShg</td>\n",
       "      <td>MetalSd</td>\n",
       "      <td>MetalSd</td>\n",
       "      <td>BrkFace</td>\n",
       "      <td>140.0</td>\n",
       "      <td>3</td>\n",
       "      <td>3</td>\n",
       "      <td>PConc</td>\n",
       "      <td>3</td>\n",
       "      <td>3</td>\n",
       "      <td>2</td>\n",
       "      <td>5</td>\n",
       "      <td>602.0</td>\n",
       "      <td>3</td>\n",
       "      <td>402.0</td>\n",
       "      <td>137.0</td>\n",
       "      <td>1141.0</td>\n",
       "      <td>GasA</td>\n",
       "      <td>4</td>\n",
       "      <td>Y</td>\n",
       "      <td>SBrkr</td>\n",
       "      <td>1141</td>\n",
       "      <td>0</td>\n",
       "      <td>0</td>\n",
       "      <td>1141</td>\n",
       "      <td>1.0</td>\n",
       "      <td>0.0</td>\n",
       "      <td>1</td>\n",
       "      <td>0</td>\n",
       "      <td>3</td>\n",
       "      <td>1</td>\n",
       "      <td>3</td>\n",
       "      <td>6</td>\n",
       "      <td>8</td>\n",
       "      <td>0</td>\n",
       "      <td>0</td>\n",
       "      <td>Attchd</td>\n",
       "      <td>1967.0</td>\n",
       "      <td>Unf</td>\n",
       "      <td>1.0</td>\n",
       "      <td>568.0</td>\n",
       "      <td>3</td>\n",
       "      <td>3</td>\n",
       "      <td>2</td>\n",
       "      <td>0</td>\n",
       "      <td>78</td>\n",
       "      <td>0</td>\n",
       "      <td>0</td>\n",
       "      <td>0</td>\n",
       "      <td>0</td>\n",
       "      <td>0</td>\n",
       "      <td>No</td>\n",
       "      <td>No</td>\n",
       "      <td>0</td>\n",
       "      <td>Jul</td>\n",
       "      <td>2006</td>\n",
       "      <td>WD</td>\n",
       "      <td>Normal</td>\n",
       "    </tr>\n",
       "  </tbody>\n",
       "</table>\n",
       "</div>"
      ],
      "text/plain": [
       "     MSSubClass MSZoning LotFrontage LotArea Street Alley LotShape  \\\n",
       "2538       SC80       RL        80.0    9600      2     0        4   \n",
       "\n",
       "     LandContour Utilities LotConfig LandSlope Neighborhood Condition1  \\\n",
       "2538         Lvl         4    Inside         3        NAmes       Norm   \n",
       "\n",
       "     Condition2 BldgType HouseStyle OverallQual OverallCond YearBuilt  \\\n",
       "2538       Norm     1Fam       SLvl           5           7      1967   \n",
       "\n",
       "     YearRemodAdd RoofStyle RoofMatl Exterior1st Exterior2nd MasVnrType  \\\n",
       "2538         1967     Gable  CompShg     MetalSd     MetalSd    BrkFace   \n",
       "\n",
       "     MasVnrArea ExterQual ExterCond Foundation BsmtQual BsmtCond BsmtExposure  \\\n",
       "2538      140.0         3         3      PConc        3        3            2   \n",
       "\n",
       "     BsmtFinType1 BsmtFinSF1 BsmtFinType2 BsmtFinSF2 BsmtUnfSF TotalBsmtSF  \\\n",
       "2538            5      602.0            3      402.0     137.0      1141.0   \n",
       "\n",
       "     Heating HeatingQC CentralAir Electrical X1stFlrSF X2ndFlrSF LowQualFinSF  \\\n",
       "2538    GasA         4          Y      SBrkr      1141         0            0   \n",
       "\n",
       "     GrLivArea BsmtFullBath BsmtHalfBath FullBath HalfBath BedroomAbvGr  \\\n",
       "2538      1141          1.0          0.0        1        0            3   \n",
       "\n",
       "     KitchenAbvGr KitchenQual TotRmsAbvGrd Functional Fireplaces FireplaceQu  \\\n",
       "2538            1           3            6          8          0           0   \n",
       "\n",
       "     GarageType GarageYrBlt GarageFinish GarageCars GarageArea GarageQual  \\\n",
       "2538     Attchd      1967.0          Unf        1.0      568.0          3   \n",
       "\n",
       "     GarageCond PavedDrive WoodDeckSF OpenPorchSF EnclosedPorch X3SsnPorch  \\\n",
       "2538          3          2          0          78             0          0   \n",
       "\n",
       "     ScreenPorch PoolArea PoolQC Fence MiscFeature MiscVal MoSold YrSold  \\\n",
       "2538           0        0      0    No          No       0    Jul   2006   \n",
       "\n",
       "     SaleType SaleCondition  \n",
       "2538      WD         Normal  "
      ]
     },
     "metadata": {},
     "output_type": "display_data"
    },
    {
     "name": "stdout",
     "output_type": "stream",
     "text": [
      "Expensive house\n",
      "True price: 209499$\n",
      "Estimated price: 189990\n",
      "Price brackets: 176504 - 202815\n",
      "Features:\n"
     ]
    },
    {
     "data": {
      "text/html": [
       "<div>\n",
       "<style scoped>\n",
       "    .dataframe tbody tr th:only-of-type {\n",
       "        vertical-align: middle;\n",
       "    }\n",
       "\n",
       "    .dataframe tbody tr th {\n",
       "        vertical-align: top;\n",
       "    }\n",
       "\n",
       "    .dataframe thead th {\n",
       "        text-align: right;\n",
       "    }\n",
       "</style>\n",
       "<table border=\"1\" class=\"dataframe\">\n",
       "  <thead>\n",
       "    <tr style=\"text-align: right;\">\n",
       "      <th></th>\n",
       "      <th>MSSubClass</th>\n",
       "      <th>MSZoning</th>\n",
       "      <th>LotFrontage</th>\n",
       "      <th>LotArea</th>\n",
       "      <th>Street</th>\n",
       "      <th>Alley</th>\n",
       "      <th>LotShape</th>\n",
       "      <th>LandContour</th>\n",
       "      <th>Utilities</th>\n",
       "      <th>LotConfig</th>\n",
       "      <th>LandSlope</th>\n",
       "      <th>Neighborhood</th>\n",
       "      <th>Condition1</th>\n",
       "      <th>Condition2</th>\n",
       "      <th>BldgType</th>\n",
       "      <th>HouseStyle</th>\n",
       "      <th>OverallQual</th>\n",
       "      <th>OverallCond</th>\n",
       "      <th>YearBuilt</th>\n",
       "      <th>YearRemodAdd</th>\n",
       "      <th>RoofStyle</th>\n",
       "      <th>RoofMatl</th>\n",
       "      <th>Exterior1st</th>\n",
       "      <th>Exterior2nd</th>\n",
       "      <th>MasVnrType</th>\n",
       "      <th>MasVnrArea</th>\n",
       "      <th>ExterQual</th>\n",
       "      <th>ExterCond</th>\n",
       "      <th>Foundation</th>\n",
       "      <th>BsmtQual</th>\n",
       "      <th>BsmtCond</th>\n",
       "      <th>BsmtExposure</th>\n",
       "      <th>BsmtFinType1</th>\n",
       "      <th>BsmtFinSF1</th>\n",
       "      <th>BsmtFinType2</th>\n",
       "      <th>BsmtFinSF2</th>\n",
       "      <th>BsmtUnfSF</th>\n",
       "      <th>TotalBsmtSF</th>\n",
       "      <th>Heating</th>\n",
       "      <th>HeatingQC</th>\n",
       "      <th>CentralAir</th>\n",
       "      <th>Electrical</th>\n",
       "      <th>X1stFlrSF</th>\n",
       "      <th>X2ndFlrSF</th>\n",
       "      <th>LowQualFinSF</th>\n",
       "      <th>GrLivArea</th>\n",
       "      <th>BsmtFullBath</th>\n",
       "      <th>BsmtHalfBath</th>\n",
       "      <th>FullBath</th>\n",
       "      <th>HalfBath</th>\n",
       "      <th>BedroomAbvGr</th>\n",
       "      <th>KitchenAbvGr</th>\n",
       "      <th>KitchenQual</th>\n",
       "      <th>TotRmsAbvGrd</th>\n",
       "      <th>Functional</th>\n",
       "      <th>Fireplaces</th>\n",
       "      <th>FireplaceQu</th>\n",
       "      <th>GarageType</th>\n",
       "      <th>GarageYrBlt</th>\n",
       "      <th>GarageFinish</th>\n",
       "      <th>GarageCars</th>\n",
       "      <th>GarageArea</th>\n",
       "      <th>GarageQual</th>\n",
       "      <th>GarageCond</th>\n",
       "      <th>PavedDrive</th>\n",
       "      <th>WoodDeckSF</th>\n",
       "      <th>OpenPorchSF</th>\n",
       "      <th>EnclosedPorch</th>\n",
       "      <th>X3SsnPorch</th>\n",
       "      <th>ScreenPorch</th>\n",
       "      <th>PoolArea</th>\n",
       "      <th>PoolQC</th>\n",
       "      <th>Fence</th>\n",
       "      <th>MiscFeature</th>\n",
       "      <th>MiscVal</th>\n",
       "      <th>MoSold</th>\n",
       "      <th>YrSold</th>\n",
       "      <th>SaleType</th>\n",
       "      <th>SaleCondition</th>\n",
       "    </tr>\n",
       "  </thead>\n",
       "  <tbody>\n",
       "    <tr>\n",
       "      <th>192</th>\n",
       "      <td>SC75</td>\n",
       "      <td>RL</td>\n",
       "      <td>0.0</td>\n",
       "      <td>7793</td>\n",
       "      <td>2</td>\n",
       "      <td>0</td>\n",
       "      <td>3</td>\n",
       "      <td>Bnk</td>\n",
       "      <td>4</td>\n",
       "      <td>Corner</td>\n",
       "      <td>3</td>\n",
       "      <td>BrkSide</td>\n",
       "      <td>Norm</td>\n",
       "      <td>Norm</td>\n",
       "      <td>1Fam</td>\n",
       "      <td>2.5Unf</td>\n",
       "      <td>7</td>\n",
       "      <td>7</td>\n",
       "      <td>1922</td>\n",
       "      <td>2005</td>\n",
       "      <td>Gable</td>\n",
       "      <td>CompShg</td>\n",
       "      <td>Wd Sdng</td>\n",
       "      <td>Wd Sdng</td>\n",
       "      <td>None</td>\n",
       "      <td>0.0</td>\n",
       "      <td>3</td>\n",
       "      <td>3</td>\n",
       "      <td>BrkTil</td>\n",
       "      <td>4</td>\n",
       "      <td>3</td>\n",
       "      <td>0</td>\n",
       "      <td>4</td>\n",
       "      <td>474.0</td>\n",
       "      <td>1</td>\n",
       "      <td>0.0</td>\n",
       "      <td>634.0</td>\n",
       "      <td>1108.0</td>\n",
       "      <td>GasA</td>\n",
       "      <td>3</td>\n",
       "      <td>N</td>\n",
       "      <td>FuseA</td>\n",
       "      <td>1160</td>\n",
       "      <td>908</td>\n",
       "      <td>0</td>\n",
       "      <td>2068</td>\n",
       "      <td>0.0</td>\n",
       "      <td>0.0</td>\n",
       "      <td>1</td>\n",
       "      <td>1</td>\n",
       "      <td>3</td>\n",
       "      <td>1</td>\n",
       "      <td>4</td>\n",
       "      <td>8</td>\n",
       "      <td>8</td>\n",
       "      <td>1</td>\n",
       "      <td>4</td>\n",
       "      <td>Detchd</td>\n",
       "      <td>1928.0</td>\n",
       "      <td>Unf</td>\n",
       "      <td>1.0</td>\n",
       "      <td>315.0</td>\n",
       "      <td>3</td>\n",
       "      <td>3</td>\n",
       "      <td>2</td>\n",
       "      <td>0</td>\n",
       "      <td>0</td>\n",
       "      <td>60</td>\n",
       "      <td>0</td>\n",
       "      <td>0</td>\n",
       "      <td>0</td>\n",
       "      <td>0</td>\n",
       "      <td>No</td>\n",
       "      <td>No</td>\n",
       "      <td>0</td>\n",
       "      <td>May</td>\n",
       "      <td>2010</td>\n",
       "      <td>WD</td>\n",
       "      <td>Normal</td>\n",
       "    </tr>\n",
       "  </tbody>\n",
       "</table>\n",
       "</div>"
      ],
      "text/plain": [
       "    MSSubClass MSZoning LotFrontage LotArea Street Alley LotShape LandContour  \\\n",
       "192       SC75       RL         0.0    7793      2     0        3         Bnk   \n",
       "\n",
       "    Utilities LotConfig LandSlope Neighborhood Condition1 Condition2 BldgType  \\\n",
       "192         4    Corner         3      BrkSide       Norm       Norm     1Fam   \n",
       "\n",
       "    HouseStyle OverallQual OverallCond YearBuilt YearRemodAdd RoofStyle  \\\n",
       "192     2.5Unf           7           7      1922         2005     Gable   \n",
       "\n",
       "    RoofMatl Exterior1st Exterior2nd MasVnrType MasVnrArea ExterQual  \\\n",
       "192  CompShg     Wd Sdng     Wd Sdng       None        0.0         3   \n",
       "\n",
       "    ExterCond Foundation BsmtQual BsmtCond BsmtExposure BsmtFinType1  \\\n",
       "192         3     BrkTil        4        3            0            4   \n",
       "\n",
       "    BsmtFinSF1 BsmtFinType2 BsmtFinSF2 BsmtUnfSF TotalBsmtSF Heating  \\\n",
       "192      474.0            1        0.0     634.0      1108.0    GasA   \n",
       "\n",
       "    HeatingQC CentralAir Electrical X1stFlrSF X2ndFlrSF LowQualFinSF  \\\n",
       "192         3          N      FuseA      1160       908            0   \n",
       "\n",
       "    GrLivArea BsmtFullBath BsmtHalfBath FullBath HalfBath BedroomAbvGr  \\\n",
       "192      2068          0.0          0.0        1        1            3   \n",
       "\n",
       "    KitchenAbvGr KitchenQual TotRmsAbvGrd Functional Fireplaces FireplaceQu  \\\n",
       "192            1           4            8          8          1           4   \n",
       "\n",
       "    GarageType GarageYrBlt GarageFinish GarageCars GarageArea GarageQual  \\\n",
       "192     Detchd      1928.0          Unf        1.0      315.0          3   \n",
       "\n",
       "    GarageCond PavedDrive WoodDeckSF OpenPorchSF EnclosedPorch X3SsnPorch  \\\n",
       "192          3          2          0           0            60          0   \n",
       "\n",
       "    ScreenPorch PoolArea PoolQC Fence MiscFeature MiscVal MoSold YrSold  \\\n",
       "192           0        0      0    No          No       0    May   2010   \n",
       "\n",
       "    SaleType SaleCondition  \n",
       "192      WD         Normal  "
      ]
     },
     "metadata": {},
     "output_type": "display_data"
    }
   ],
   "source": [
    "import joblib\n",
    "\n",
    "joblib.dump(full_transformer, \"ames_transformer.joblib\")\n",
    "joblib.dump(hub, \"price_estimator.joblib\")\n",
    "joblib.dump(quant_grid, \"high_price_estimator.joblib\")\n",
    "joblib.dump(low_quant_grid, \"low_price_estimator.joblib\")\n",
    "\n",
    "def test_models() -> None:\n",
    "    transformer = joblib.load(\"ames_transformer.joblib\")\n",
    "    price_reg = joblib.load(\"price_estimator.joblib\")\n",
    "    low_price_reg = joblib.load(\"low_price_estimator.joblib\")\n",
    "    high_price_reg = joblib.load(\"high_price_estimator.joblib\")\n",
    "\n",
    "    # select houses from test set around 25th, 50th and 75th percentile\n",
    "    prices = np.expm1(y_test).astype(int)\n",
    "\n",
    "    for price_type, quantile in [\n",
    "        (\"Cheap\", 0.25),\n",
    "        (\"Average\", 0.5),\n",
    "        (\"Expensive\", 0.75),\n",
    "    ]:\n",
    "        idx = prices[\n",
    "            prices == prices.quantile(quantile, interpolation=\"nearest\")\n",
    "        ].index[0]\n",
    "        X = X_test_raw.loc[idx].to_frame().T\n",
    "        y = prices[idx]\n",
    "\n",
    "        float_to_int = lambda x: int(np.round(np.expm1(x.item())))\n",
    "\n",
    "        X_transformed = transformer.transform(X)\n",
    "        y_pred = float_to_int(price_reg.predict(X_transformed))\n",
    "        y_low_pred = float_to_int(low_price_reg.predict(X_transformed))\n",
    "        y_high_pred = float_to_int(high_price_reg.predict(X_transformed))\n",
    "\n",
    "        print(f\"{price_type} house\")\n",
    "        print(f\"True price: {y}$\")\n",
    "        print(f\"Estimated price: {y_pred}\")\n",
    "        print(f\"Price brackets: {y_low_pred} - {y_high_pred}\")\n",
    "\n",
    "        print(\"Features:\")\n",
    "        with pd.option_context(\"display.max_columns\", None):\n",
    "            display(X)\n",
    "\n",
    "\n",
    "test_models()"
   ]
  },
  {
   "cell_type": "markdown",
   "metadata": {},
   "source": [
    "// skomentuj tutaj"
   ]
  },
  {
   "cell_type": "markdown",
   "metadata": {},
   "source": [
    "## Zadanie dodatkowe (3 punkty)"
   ]
  },
  {
   "cell_type": "markdown",
   "metadata": {},
   "source": [
    "Product Owner przychodzi do ciebie ponownie. Klienci skarżą się, że nie rozumieją, czemu model przewiduje taką, a nie inną wartość dla ich domu. Przykładowo, jeżeli to ogólny stan domu (`OverallCond`) czy garażu (`GarageCond`) obniżają cenę, to byliby gotowi je wyremontować dla lepszego zysku.\n",
    "\n",
    "Jest to problem **wyjaśnialnego AI (Explainable AI, XAI)**. O ile cały model w przypadku regresji liniowej jest bardzo transparentny dzięki wagom cech i liniowym predykcjom, to już zrozumienie, czemu dana predykcja była taka, a nie inna, to już problem **lokalnej wyjaśnialności (local explainability)**, gdzie tłumaczymy pojedynczą predykcję, dla danego zestawu cech.\n",
    "\n",
    "Najpopularniejszym algorytmem jest tutaj **SHapley Additive Explanations (SHAP)**. Opiera się on o tzw. wartości Shapleya, mające bardzo solidne podstawy w kooperatywnej teorii gier. Opiera się na idei, że wartości cech grają w grę: jedne obniżają predykcję, a drugie podwyższają, a finalna predykcja modelu to ich konsekwencja. Każda cecha to gracz, ale jedna wnosi więcej, a inna mniej. Idea algorytmu SHAP to uznanie, że \"wartościowi gracze\" to wpływowe cechy, które mocno przyczyniły się do danej decyzji modelu.\n",
    "\n",
    "Obliczanie wartości Shapleya w ogólnym przypadku ma złożoność eksponencjalną. Algorytm SHAP zaproponował efektywne ich przybliżanie dla dowolnych algorytmów ML. Dla niektórych klas modeli, przede wszystkim liniowych oraz drzewiastych, istnieją szczególnie efektywne metody, które w czasie wielomianowym obliczają dokładne wartości Shapleya. Wyjaśnienia, jak działa SHAP: [link 1](https://www.youtube.com/watch?v=9haIOplEIGM), [link 2](https://www.youtube.com/watch?v=VB9uV-x0gtg), [link 3](https://www.youtube.com/watch?v=0yXtdkIL3Xk).\n",
    "\n",
    "Z pomocą biblioteki `shap` oblicz wartości Shapleya dla przykładowych domów z ostatniego zadania i wyświetl je na tzw. force plot. Przyda ci się tutaj `LinearExplainer` ([dokumentacja](https://shap.readthedocs.io/en/latest/generated/shap.LinearExplainer.html#shap.LinearExplainer)) oraz `plots.force()` ([dokumentacja](https://shap.readthedocs.io/en/latest/generated/shap.plots.force.html)).\n",
    "\n",
    "Porównaj ze sobą dwie metody estymacji: \"interventional\" oraz \"correlation_dependent\" (opisane w dokumentacji). Możesz je zaimplementować za pomocą `maskers.Independent` oraz `maskers.Impute`. Jako zbiór do porównania (tzw. background samples) użyj całego zbioru treningowego.\n",
    "\n",
    "Skomentuj, czy wyjaśnienia mają twoim zdaniem sens i czy są intuicyjne. Która metoda estymacji daje subiektywnie lepsze wyniki?"
   ]
  },
  {
   "cell_type": "code",
   "execution_count": null,
   "metadata": {},
   "outputs": [],
   "source": []
  }
 ],
 "metadata": {
  "kernelspec": {
   "display_name": "Python 3 (ipykernel)",
   "language": "python",
   "name": "python3"
  },
  "language_info": {
   "codemirror_mode": {
    "name": "ipython",
    "version": 3
   },
   "file_extension": ".py",
   "mimetype": "text/x-python",
   "name": "python",
   "nbconvert_exporter": "python",
   "pygments_lexer": "ipython3",
   "version": "3.11.11"
  }
 },
 "nbformat": 4,
 "nbformat_minor": 4
}
